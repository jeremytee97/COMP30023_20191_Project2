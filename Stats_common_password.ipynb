{
 "cells": [
  {
   "cell_type": "code",
   "execution_count": 22,
   "metadata": {},
   "outputs": [],
   "source": [
    "from collections import defaultdict\n",
    "import string\n",
    "import re\n",
    "f = open(\"common_passwords.txt\", \"r\")"
   ]
  },
  {
   "cell_type": "code",
   "execution_count": 23,
   "metadata": {},
   "outputs": [],
   "source": [
    "lines = f.readlines()"
   ]
  },
  {
   "cell_type": "code",
   "execution_count": 24,
   "metadata": {},
   "outputs": [],
   "source": [
    "dictionary = defaultdict(int)\n",
    "symbolsdict = defaultdict(int)\n",
    "numbersdict = defaultdict(int)\n",
    "upperdict = defaultdict(int)\n",
    "numberGuessDict = defaultdict(int)\n",
    "nWord = 0\n",
    "alphabets = 0\n",
    "alphanumeric = 0\n",
    "numbers = 0\n",
    "symbolsincluded = 0\n",
    "consecutive_char = 0\n",
    "def consecutive(string):\n",
    "    if re.search(r'(.)\\1\\1', string):\n",
    "        return True\n",
    "\n",
    "def compute(word):\n",
    "    #print(word)\n",
    "    #print(len(word))\n",
    "    max_symbols = 0\n",
    "    max_numbers = 0\n",
    "    max_upper = 0\n",
    "    for i in range(len(word)-1):\n",
    "        if(word[i] in string.punctuation):\n",
    "            max_symbols +=1\n",
    "        if(word[i].isdigit()):\n",
    "            max_numbers +=1\n",
    "        if(word[i].isalpha() & word[i].isupper()):\n",
    "            max_upper +=1\n",
    "        dictionary[word[i]]+=1\n",
    "    symbolsdict[max_symbols] +=1\n",
    "    numbersdict[max_numbers] +=1\n",
    "    upperdict[max_upper] +=1\n",
    "\n",
    "def calculate_numbers_prob(number):\n",
    "     for i in range(len(number)-1):\n",
    "        numberGuessDict[number[i]]+=1"
   ]
  },
  {
   "cell_type": "code",
   "execution_count": 25,
   "metadata": {},
   "outputs": [
    {
     "name": "stdout",
     "output_type": "stream",
     "text": [
      "Number of words 10113\n"
     ]
    }
   ],
   "source": [
    "for line in lines:\n",
    "    if(line[:-1].isdigit()):\n",
    "        numbers+=1\n",
    "        calculate_numbers_prob(line)\n",
    "    elif(line[:-1].isalpha()):\n",
    "        alphabets+=1\n",
    "    elif(line[:-1].isalnum()):\n",
    "        alphanumeric+=1\n",
    "    else:\n",
    "        symbolsincluded+=1\n",
    "    if consecutive(line[:-1]):\n",
    "        consecutive_char +=1\n",
    "    compute(line)\n",
    "    nWord += 1\n",
    "print(\"Number of words {}\".format(nWord))\n",
    "f.close()"
   ]
  },
  {
   "cell_type": "code",
   "execution_count": 26,
   "metadata": {},
   "outputs": [
    {
     "data": {
      "text/plain": [
       "63603"
      ]
     },
     "execution_count": 26,
     "metadata": {},
     "output_type": "execute_result"
    }
   ],
   "source": [
    "sum(dictionary.values())"
   ]
  },
  {
   "cell_type": "code",
   "execution_count": 27,
   "metadata": {},
   "outputs": [
    {
     "data": {
      "text/plain": [
       "0.11312172451300306"
      ]
     },
     "execution_count": 27,
     "metadata": {},
     "output_type": "execute_result"
    }
   ],
   "source": [
    "alphanumeric / nWord"
   ]
  },
  {
   "cell_type": "code",
   "execution_count": 28,
   "metadata": {},
   "outputs": [
    {
     "data": {
      "text/plain": [
       "0.055176505487985764"
      ]
     },
     "execution_count": 28,
     "metadata": {},
     "output_type": "execute_result"
    }
   ],
   "source": [
    "numbers/nWord"
   ]
  },
  {
   "cell_type": "code",
   "execution_count": 29,
   "metadata": {},
   "outputs": [
    {
     "data": {
      "text/plain": [
       "0.009987145258578068"
      ]
     },
     "execution_count": 29,
     "metadata": {},
     "output_type": "execute_result"
    }
   ],
   "source": [
    "symbolsincluded/nWord"
   ]
  },
  {
   "cell_type": "code",
   "execution_count": 30,
   "metadata": {},
   "outputs": [
    {
     "data": {
      "text/plain": [
       "0.8217146247404331"
      ]
     },
     "execution_count": 30,
     "metadata": {},
     "output_type": "execute_result"
    }
   ],
   "source": [
    "alphabets/nWord"
   ]
  },
  {
   "cell_type": "code",
   "execution_count": 31,
   "metadata": {},
   "outputs": [
    {
     "data": {
      "text/plain": [
       "0.026302778601799665"
      ]
     },
     "execution_count": 31,
     "metadata": {},
     "output_type": "execute_result"
    }
   ],
   "source": [
    "consecutive_char/nWord"
   ]
  },
  {
   "cell_type": "code",
   "execution_count": 32,
   "metadata": {},
   "outputs": [
    {
     "data": {
      "text/plain": [
       "72"
      ]
     },
     "execution_count": 32,
     "metadata": {},
     "output_type": "execute_result"
    }
   ],
   "source": [
    "len(dictionary.keys())"
   ]
  },
  {
   "cell_type": "code",
   "execution_count": 33,
   "metadata": {},
   "outputs": [
    {
     "data": {
      "text/plain": [
       "defaultdict(int,\n",
       "            {' ': 73,\n",
       "             '!': 3,\n",
       "             '&': 3,\n",
       "             \"'\": 1,\n",
       "             '*': 23,\n",
       "             '+': 2,\n",
       "             '-': 2,\n",
       "             '.': 5,\n",
       "             '0': 373,\n",
       "             '1': 1376,\n",
       "             '2': 624,\n",
       "             '3': 412,\n",
       "             '4': 352,\n",
       "             '5': 344,\n",
       "             '6': 316,\n",
       "             '7': 282,\n",
       "             '8': 230,\n",
       "             '9': 325,\n",
       "             ';': 1,\n",
       "             '?': 13,\n",
       "             'A': 11,\n",
       "             'B': 4,\n",
       "             'C': 5,\n",
       "             'D': 4,\n",
       "             'E': 9,\n",
       "             'F': 1,\n",
       "             'H': 2,\n",
       "             'I': 9,\n",
       "             'J': 2,\n",
       "             'K': 1,\n",
       "             'L': 6,\n",
       "             'M': 3,\n",
       "             'N': 2,\n",
       "             'O': 4,\n",
       "             'P': 10,\n",
       "             'R': 7,\n",
       "             'S': 12,\n",
       "             'T': 4,\n",
       "             'U': 4,\n",
       "             'W': 3,\n",
       "             'Y': 1,\n",
       "             '\\\\': 1,\n",
       "             ']': 2,\n",
       "             '^': 1,\n",
       "             '`': 1,\n",
       "             'a': 5598,\n",
       "             'b': 1632,\n",
       "             'c': 2162,\n",
       "             'd': 2061,\n",
       "             'e': 6065,\n",
       "             'f': 900,\n",
       "             'g': 1642,\n",
       "             'h': 1844,\n",
       "             'i': 3888,\n",
       "             'j': 472,\n",
       "             'k': 1129,\n",
       "             'l': 3155,\n",
       "             'm': 2047,\n",
       "             'n': 3935,\n",
       "             'o': 4209,\n",
       "             'p': 1526,\n",
       "             'q': 190,\n",
       "             'r': 4250,\n",
       "             's': 3681,\n",
       "             't': 3174,\n",
       "             'u': 1631,\n",
       "             'v': 607,\n",
       "             'w': 863,\n",
       "             'x': 311,\n",
       "             'y': 1386,\n",
       "             'z': 375,\n",
       "             '|': 1})"
      ]
     },
     "execution_count": 33,
     "metadata": {},
     "output_type": "execute_result"
    }
   ],
   "source": [
    "dictionary"
   ]
  },
  {
   "cell_type": "code",
   "execution_count": null,
   "metadata": {},
   "outputs": [],
   "source": []
  },
  {
   "cell_type": "code",
   "execution_count": 34,
   "metadata": {},
   "outputs": [
    {
     "data": {
      "text/plain": [
       "defaultdict(int, {0: 10081, 1: 22, 2: 4, 3: 1, 4: 1, 5: 2, 6: 2})"
      ]
     },
     "execution_count": 34,
     "metadata": {},
     "output_type": "execute_result"
    }
   ],
   "source": [
    "symbolsdict"
   ]
  },
  {
   "cell_type": "code",
   "execution_count": 35,
   "metadata": {},
   "outputs": [
    {
     "data": {
      "text/plain": [
       "0.9886284979729062"
      ]
     },
     "execution_count": 35,
     "metadata": {},
     "output_type": "execute_result"
    }
   ],
   "source": [
    "9998 / sum(symbolsdict.values())"
   ]
  },
  {
   "cell_type": "code",
   "execution_count": 36,
   "metadata": {},
   "outputs": [
    {
     "data": {
      "text/plain": [
       "defaultdict(int,\n",
       "            {0: 8389,\n",
       "             1: 849,\n",
       "             2: 134,\n",
       "             3: 129,\n",
       "             4: 326,\n",
       "             5: 24,\n",
       "             6: 187,\n",
       "             7: 21,\n",
       "             8: 50,\n",
       "             9: 3,\n",
       "             10: 1})"
      ]
     },
     "execution_count": 36,
     "metadata": {},
     "output_type": "execute_result"
    }
   ],
   "source": [
    "numbersdict"
   ]
  },
  {
   "cell_type": "code",
   "execution_count": 43,
   "metadata": {},
   "outputs": [
    {
     "data": {
      "text/plain": [
       "0.9134777019677642"
      ]
     },
     "execution_count": 43,
     "metadata": {},
     "output_type": "execute_result"
    }
   ],
   "source": [
    "(8389+849)/sum(numbersdict.values())"
   ]
  },
  {
   "cell_type": "code",
   "execution_count": 38,
   "metadata": {},
   "outputs": [
    {
     "data": {
      "text/plain": [
       "defaultdict(int, {0: 10029, 1: 72, 2: 10, 6: 2})"
      ]
     },
     "execution_count": 38,
     "metadata": {},
     "output_type": "execute_result"
    }
   ],
   "source": [
    "upperdict"
   ]
  },
  {
   "cell_type": "code",
   "execution_count": 42,
   "metadata": {},
   "outputs": [
    {
     "data": {
      "text/plain": [
       "0.9916938593889054"
      ]
     },
     "execution_count": 42,
     "metadata": {},
     "output_type": "execute_result"
    }
   ],
   "source": [
    "10029/sum(upperdict.values())"
   ]
  },
  {
   "cell_type": "code",
   "execution_count": 54,
   "metadata": {},
   "outputs": [
    {
     "data": {
      "text/plain": [
       "[('1', 552),\n",
       " ('2', 384),\n",
       " ('0', 290),\n",
       " ('9', 262),\n",
       " ('3', 261),\n",
       " ('4', 252),\n",
       " ('5', 252),\n",
       " ('6', 234),\n",
       " ('7', 226),\n",
       " ('8', 182)]"
      ]
     },
     "execution_count": 54,
     "metadata": {},
     "output_type": "execute_result"
    }
   ],
   "source": [
    "import operator\n",
    "sorted_x = sorted(numberGuessDict.items(), key=operator.itemgetter(1), reverse = True)\n",
    "sorted_x\n",
    "1,2,0,9,3,4,5,6,7,8"
   ]
  },
  {
   "cell_type": "code",
   "execution_count": 41,
   "metadata": {},
   "outputs": [
    {
     "name": "stdout",
     "output_type": "stream",
     "text": [
      "1 0.19067357512953367\n",
      "2 0.13264248704663212\n",
      "3 0.09015544041450778\n",
      "4 0.08704663212435233\n",
      "5 0.08704663212435233\n",
      "6 0.08082901554404145\n",
      "7 0.07806563039723662\n",
      "8 0.06286701208981002\n",
      "9 0.09050086355785837\n",
      "0 0.1001727115716753\n"
     ]
    }
   ],
   "source": [
    "for key in numberGuessDict.keys():\n",
    "    print(key, numberGuessDict[key]/sum(numberGuessDict.values()))"
   ]
  },
  {
   "cell_type": "code",
   "execution_count": null,
   "metadata": {},
   "outputs": [],
   "source": []
  }
 ],
 "metadata": {
  "kernelspec": {
   "display_name": "Python 3",
   "language": "python",
   "name": "python3"
  },
  "language_info": {
   "codemirror_mode": {
    "name": "ipython",
    "version": 3
   },
   "file_extension": ".py",
   "mimetype": "text/x-python",
   "name": "python",
   "nbconvert_exporter": "python",
   "pygments_lexer": "ipython3",
   "version": "3.6.4"
  }
 },
 "nbformat": 4,
 "nbformat_minor": 2
}
