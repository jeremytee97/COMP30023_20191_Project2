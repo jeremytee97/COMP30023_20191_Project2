{
 "cells": [
  {
   "cell_type": "code",
   "execution_count": 1,
   "metadata": {},
   "outputs": [],
   "source": [
    "from collections import defaultdict\n",
    "import string\n",
    "import re\n",
    "f = open(\"common_passwords.txt\", \"r\")"
   ]
  },
  {
   "cell_type": "code",
   "execution_count": 2,
   "metadata": {},
   "outputs": [],
   "source": [
    "lines = f.readlines()"
   ]
  },
  {
   "cell_type": "code",
   "execution_count": 3,
   "metadata": {},
   "outputs": [],
   "source": [
    "dictionary = defaultdict(int)\n",
    "symbolsdict = defaultdict(int)\n",
    "numbersdict = defaultdict(int)\n",
    "upperdict = defaultdict(int)\n",
    "numberGuessDict = defaultdict(int)\n",
    "nWord = 0\n",
    "alphabets = 0\n",
    "alphanumeric = 0\n",
    "numbers = 0\n",
    "symbolsincluded = 0\n",
    "consecutive_char = 0\n",
    "def consecutive(string):\n",
    "    if re.search(r'(.)\\1\\1', string):\n",
    "        return True\n",
    "\n",
    "def compute(word):\n",
    "    #print(word)\n",
    "    #print(len(word))\n",
    "    max_symbols = 0\n",
    "    max_numbers = 0\n",
    "    max_upper = 0\n",
    "    for i in range(len(word)-1):\n",
    "        if(word[i] in string.punctuation):\n",
    "            max_symbols +=1\n",
    "        if(word[i].isdigit()):\n",
    "            max_numbers +=1\n",
    "        if(word[i].isalpha() & word[i].isupper()):\n",
    "            max_upper +=1\n",
    "        dictionary[word[i]]+=1\n",
    "    symbolsdict[max_symbols] +=1\n",
    "    numbersdict[max_numbers] +=1\n",
    "    upperdict[max_upper] +=1\n",
    "\n",
    "def calculate_numbers_prob(number):\n",
    "     for i in range(len(number)-1):\n",
    "        numberGuessDict[number[i]]+=1"
   ]
  },
  {
   "cell_type": "code",
   "execution_count": 4,
   "metadata": {},
   "outputs": [
    {
     "name": "stdout",
     "output_type": "stream",
     "text": [
      "Number of words 10113\n"
     ]
    }
   ],
   "source": [
    "for line in lines:\n",
    "    if(line[:-1].isdigit()):\n",
    "        numbers+=1\n",
    "        calculate_numbers_prob(line)\n",
    "    elif(line[:-1].isalpha()):\n",
    "        alphabets+=1\n",
    "    elif(line[:-1].isalnum()):\n",
    "        alphanumeric+=1\n",
    "    else:\n",
    "        symbolsincluded+=1\n",
    "    if consecutive(line[:-1]):\n",
    "        consecutive_char +=1\n",
    "    compute(line)\n",
    "    nWord += 1\n",
    "print(\"Number of words {}\".format(nWord))\n",
    "f.close()"
   ]
  },
  {
   "cell_type": "code",
   "execution_count": 5,
   "metadata": {},
   "outputs": [
    {
     "data": {
      "text/plain": [
       "63603"
      ]
     },
     "execution_count": 5,
     "metadata": {},
     "output_type": "execute_result"
    }
   ],
   "source": [
    "sum(dictionary.values())"
   ]
  },
  {
   "cell_type": "code",
   "execution_count": 6,
   "metadata": {},
   "outputs": [
    {
     "data": {
      "text/plain": [
       "0.11312172451300306"
      ]
     },
     "execution_count": 6,
     "metadata": {},
     "output_type": "execute_result"
    }
   ],
   "source": [
    "alphanumeric / nWord"
   ]
  },
  {
   "cell_type": "code",
   "execution_count": 7,
   "metadata": {},
   "outputs": [
    {
     "data": {
      "text/plain": [
       "0.055176505487985764"
      ]
     },
     "execution_count": 7,
     "metadata": {},
     "output_type": "execute_result"
    }
   ],
   "source": [
    "numbers/nWord"
   ]
  },
  {
   "cell_type": "code",
   "execution_count": 8,
   "metadata": {},
   "outputs": [
    {
     "data": {
      "text/plain": [
       "0.009987145258578068"
      ]
     },
     "execution_count": 8,
     "metadata": {},
     "output_type": "execute_result"
    }
   ],
   "source": [
    "symbolsincluded/nWord"
   ]
  },
  {
   "cell_type": "code",
   "execution_count": 9,
   "metadata": {},
   "outputs": [
    {
     "data": {
      "text/plain": [
       "0.8217146247404331"
      ]
     },
     "execution_count": 9,
     "metadata": {},
     "output_type": "execute_result"
    }
   ],
   "source": [
    "alphabets/nWord"
   ]
  },
  {
   "cell_type": "code",
   "execution_count": 10,
   "metadata": {},
   "outputs": [
    {
     "data": {
      "text/plain": [
       "0.026302778601799665"
      ]
     },
     "execution_count": 10,
     "metadata": {},
     "output_type": "execute_result"
    }
   ],
   "source": [
    "consecutive_char/nWord"
   ]
  },
  {
   "cell_type": "code",
   "execution_count": 11,
   "metadata": {},
   "outputs": [
    {
     "data": {
      "text/plain": [
       "72"
      ]
     },
     "execution_count": 11,
     "metadata": {},
     "output_type": "execute_result"
    }
   ],
   "source": [
    "len(dictionary.keys())"
   ]
  },
  {
   "cell_type": "code",
   "execution_count": 12,
   "metadata": {},
   "outputs": [
    {
     "data": {
      "text/plain": [
       "defaultdict(int,\n",
       "            {' ': 73,\n",
       "             '!': 3,\n",
       "             '&': 3,\n",
       "             \"'\": 1,\n",
       "             '*': 23,\n",
       "             '+': 2,\n",
       "             '-': 2,\n",
       "             '.': 5,\n",
       "             '0': 373,\n",
       "             '1': 1376,\n",
       "             '2': 624,\n",
       "             '3': 412,\n",
       "             '4': 352,\n",
       "             '5': 344,\n",
       "             '6': 316,\n",
       "             '7': 282,\n",
       "             '8': 230,\n",
       "             '9': 325,\n",
       "             ';': 1,\n",
       "             '?': 13,\n",
       "             'A': 11,\n",
       "             'B': 4,\n",
       "             'C': 5,\n",
       "             'D': 4,\n",
       "             'E': 9,\n",
       "             'F': 1,\n",
       "             'H': 2,\n",
       "             'I': 9,\n",
       "             'J': 2,\n",
       "             'K': 1,\n",
       "             'L': 6,\n",
       "             'M': 3,\n",
       "             'N': 2,\n",
       "             'O': 4,\n",
       "             'P': 10,\n",
       "             'R': 7,\n",
       "             'S': 12,\n",
       "             'T': 4,\n",
       "             'U': 4,\n",
       "             'W': 3,\n",
       "             'Y': 1,\n",
       "             '\\\\': 1,\n",
       "             ']': 2,\n",
       "             '^': 1,\n",
       "             '`': 1,\n",
       "             'a': 5598,\n",
       "             'b': 1632,\n",
       "             'c': 2162,\n",
       "             'd': 2061,\n",
       "             'e': 6065,\n",
       "             'f': 900,\n",
       "             'g': 1642,\n",
       "             'h': 1844,\n",
       "             'i': 3888,\n",
       "             'j': 472,\n",
       "             'k': 1129,\n",
       "             'l': 3155,\n",
       "             'm': 2047,\n",
       "             'n': 3935,\n",
       "             'o': 4209,\n",
       "             'p': 1526,\n",
       "             'q': 190,\n",
       "             'r': 4250,\n",
       "             's': 3681,\n",
       "             't': 3174,\n",
       "             'u': 1631,\n",
       "             'v': 607,\n",
       "             'w': 863,\n",
       "             'x': 311,\n",
       "             'y': 1386,\n",
       "             'z': 375,\n",
       "             '|': 1})"
      ]
     },
     "execution_count": 12,
     "metadata": {},
     "output_type": "execute_result"
    }
   ],
   "source": [
    "dictionary"
   ]
  },
  {
   "cell_type": "code",
   "execution_count": null,
   "metadata": {},
   "outputs": [],
   "source": []
  },
  {
   "cell_type": "code",
   "execution_count": 13,
   "metadata": {},
   "outputs": [
    {
     "data": {
      "text/plain": [
       "defaultdict(int, {0: 10081, 1: 22, 2: 4, 3: 1, 4: 1, 5: 2, 6: 2})"
      ]
     },
     "execution_count": 13,
     "metadata": {},
     "output_type": "execute_result"
    }
   ],
   "source": [
    "symbolsdict"
   ]
  },
  {
   "cell_type": "code",
   "execution_count": 37,
   "metadata": {},
   "outputs": [
    {
     "data": {
      "text/plain": [
       "0.9968357559576783"
      ]
     },
     "execution_count": 37,
     "metadata": {},
     "output_type": "execute_result"
    }
   ],
   "source": [
    "10081 / sum(symbolsdict.values())"
   ]
  },
  {
   "cell_type": "code",
   "execution_count": 15,
   "metadata": {},
   "outputs": [
    {
     "data": {
      "text/plain": [
       "defaultdict(int,\n",
       "            {0: 8389,\n",
       "             1: 849,\n",
       "             2: 134,\n",
       "             3: 129,\n",
       "             4: 326,\n",
       "             5: 24,\n",
       "             6: 187,\n",
       "             7: 21,\n",
       "             8: 50,\n",
       "             9: 3,\n",
       "             10: 1})"
      ]
     },
     "execution_count": 15,
     "metadata": {},
     "output_type": "execute_result"
    }
   ],
   "source": [
    "numbersdict"
   ]
  },
  {
   "cell_type": "code",
   "execution_count": 16,
   "metadata": {},
   "outputs": [
    {
     "data": {
      "text/plain": [
       "0.9134777019677642"
      ]
     },
     "execution_count": 16,
     "metadata": {},
     "output_type": "execute_result"
    }
   ],
   "source": [
    "(8389+849)/sum(numbersdict.values())"
   ]
  },
  {
   "cell_type": "code",
   "execution_count": 17,
   "metadata": {},
   "outputs": [
    {
     "data": {
      "text/plain": [
       "defaultdict(int, {0: 10029, 1: 72, 2: 10, 6: 2})"
      ]
     },
     "execution_count": 17,
     "metadata": {},
     "output_type": "execute_result"
    }
   ],
   "source": [
    "upperdict"
   ]
  },
  {
   "cell_type": "code",
   "execution_count": 18,
   "metadata": {},
   "outputs": [
    {
     "data": {
      "text/plain": [
       "0.9916938593889054"
      ]
     },
     "execution_count": 18,
     "metadata": {},
     "output_type": "execute_result"
    }
   ],
   "source": [
    "10029/sum(upperdict.values())"
   ]
  },
  {
   "cell_type": "code",
   "execution_count": 21,
   "metadata": {},
   "outputs": [
    {
     "data": {
      "text/plain": [
       "[('1', 552),\n",
       " ('2', 384),\n",
       " ('0', 290),\n",
       " ('9', 262),\n",
       " ('3', 261),\n",
       " ('4', 252),\n",
       " ('5', 252),\n",
       " ('6', 234),\n",
       " ('7', 226),\n",
       " ('8', 182)]"
      ]
     },
     "execution_count": 21,
     "metadata": {},
     "output_type": "execute_result"
    }
   ],
   "source": [
    "import operator\n",
    "sorted_x = sorted(numberGuessDict.items(), key=operator.itemgetter(1), reverse = True)\n",
    "sorted_x"
   ]
  },
  {
   "cell_type": "code",
   "execution_count": 22,
   "metadata": {},
   "outputs": [],
   "source": [
    "new_dict = {'1': 1376,\n",
    "             '2': 624,\n",
    "             '3': 412,\n",
    "             '4': 352,\n",
    "             '5': 344,\n",
    "             '6': 316,\n",
    "             '7': 282,\n",
    "             '8': 230,\n",
    "             '9': 325}"
   ]
  },
  {
   "cell_type": "code",
   "execution_count": 26,
   "metadata": {},
   "outputs": [
    {
     "name": "stdout",
     "output_type": "stream",
     "text": [
      "1 0.32292888993194085\n",
      "2 0.14644449659704295\n",
      "3 0.09669091762497066\n",
      "4 0.08260971602910115\n",
      "5 0.08073222248298521\n",
      "6 0.07416099507157944\n",
      "7 0.06618164750058672\n",
      "8 0.05397793945083314\n",
      "9 0.07627317531095987\n"
     ]
    }
   ],
   "source": [
    "for key in new_dict.keys():\n",
    "    print(key, new_dict[key]/sum(new_dict.values()))"
   ]
  },
  {
   "cell_type": "code",
   "execution_count": 34,
   "metadata": {},
   "outputs": [],
   "source": [
    "f = open(\"output.txt\", \"r\")\n",
    "lines = f.readlines()\n",
    "testDict = defaultdict(int)\n",
    "for line in lines:\n",
    "    testDict[line[:-1]] +=1"
   ]
  },
  {
   "cell_type": "code",
   "execution_count": 35,
   "metadata": {},
   "outputs": [],
   "source": [
    "f.close()"
   ]
  },
  {
   "cell_type": "code",
   "execution_count": 36,
   "metadata": {},
   "outputs": [
    {
     "data": {
      "text/plain": [
       "defaultdict(int,\n",
       "            {'1': 3173,\n",
       "             '2': 1455,\n",
       "             '3': 1005,\n",
       "             '4': 846,\n",
       "             '5': 792,\n",
       "             '6': 716,\n",
       "             '7': 685,\n",
       "             '8': 507,\n",
       "             '9': 821})"
      ]
     },
     "execution_count": 36,
     "metadata": {},
     "output_type": "execute_result"
    }
   ],
   "source": [
    "testDict"
   ]
  },
  {
   "cell_type": "code",
   "execution_count": null,
   "metadata": {},
   "outputs": [],
   "source": []
  }
 ],
 "metadata": {
  "kernelspec": {
   "display_name": "Python 3",
   "language": "python",
   "name": "python3"
  },
  "language_info": {
   "codemirror_mode": {
    "name": "ipython",
    "version": 3
   },
   "file_extension": ".py",
   "mimetype": "text/x-python",
   "name": "python",
   "nbconvert_exporter": "python",
   "pygments_lexer": "ipython3",
   "version": "3.6.4"
  }
 },
 "nbformat": 4,
 "nbformat_minor": 2
}
