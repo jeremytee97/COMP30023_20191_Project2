{
 "cells": [
  {
   "cell_type": "code",
   "execution_count": 38,
   "metadata": {},
   "outputs": [],
   "source": [
    "from collections import defaultdict\n",
    "import string\n",
    "import re\n",
    "f = open(\"common_passwords.txt\", \"r\")"
   ]
  },
  {
   "cell_type": "code",
   "execution_count": 39,
   "metadata": {},
   "outputs": [],
   "source": [
    "lines = f.readlines()"
   ]
  },
  {
   "cell_type": "code",
   "execution_count": 40,
   "metadata": {},
   "outputs": [],
   "source": [
    "dictionary = defaultdict(int)\n",
    "symbolsdict = defaultdict(int)\n",
    "numbersdict = defaultdict(int)\n",
    "upperdict = defaultdict(int)\n",
    "numberGuessDict = defaultdict(int)\n",
    "nWord = 0\n",
    "alphabets = 0\n",
    "alphanumeric = 0\n",
    "numbers = 0\n",
    "symbolsincluded = 0\n",
    "consecutive_char = 0\n",
    "def consecutive(string):\n",
    "    if re.search(r'(.)\\1\\1', string):\n",
    "        return True\n",
    "\n",
    "def compute(word):\n",
    "    #print(word)\n",
    "    #print(len(word))\n",
    "    max_symbols = 0\n",
    "    max_numbers = 0\n",
    "    max_upper = 0\n",
    "    for i in range(len(word)-1):\n",
    "        if(word[i] in string.punctuation):\n",
    "            max_symbols +=1\n",
    "        if(word[i].isdigit()):\n",
    "            max_numbers +=1\n",
    "        if(word[i].isalpha() & word[i].isupper()):\n",
    "            max_upper +=1\n",
    "        dictionary[word[i]]+=1\n",
    "    symbolsdict[max_symbols] +=1\n",
    "    numbersdict[max_numbers] +=1\n",
    "    upperdict[max_upper] +=1\n",
    "\n",
    "def calculate_numbers_prob(number):\n",
    "     for i in range(len(number)-1):\n",
    "        numberGuessDict[number[i]]+=1"
   ]
  },
  {
   "cell_type": "code",
   "execution_count": 41,
   "metadata": {},
   "outputs": [
    {
     "name": "stdout",
     "output_type": "stream",
     "text": [
      "Number of words 10108\n"
     ]
    }
   ],
   "source": [
    "for line in lines:\n",
    "    if(line[:-1].isdigit()):\n",
    "        numbers+=1\n",
    "        calculate_numbers_prob(line)\n",
    "    elif(line[:-1].isalpha()):\n",
    "        alphabets+=1\n",
    "    elif(line[:-1].isalnum()):\n",
    "        alphanumeric+=1\n",
    "    else:\n",
    "        symbolsincluded+=1\n",
    "    if consecutive(line[:-1]):\n",
    "        consecutive_char +=1\n",
    "    compute(line)\n",
    "    nWord += 1\n",
    "print(\"Number of words {}\".format(nWord))\n",
    "f.close()"
   ]
  },
  {
   "cell_type": "code",
   "execution_count": 42,
   "metadata": {},
   "outputs": [
    {
     "data": {
      "text/plain": [
       "63490"
      ]
     },
     "execution_count": 42,
     "metadata": {},
     "output_type": "execute_result"
    }
   ],
   "source": [
    "sum(dictionary.values())"
   ]
  },
  {
   "cell_type": "code",
   "execution_count": 43,
   "metadata": {},
   "outputs": [
    {
     "data": {
      "text/plain": [
       "0.11406806489908983"
      ]
     },
     "execution_count": 43,
     "metadata": {},
     "output_type": "execute_result"
    }
   ],
   "source": [
    "alphanumeric / nWord"
   ]
  },
  {
   "cell_type": "code",
   "execution_count": 44,
   "metadata": {},
   "outputs": [
    {
     "data": {
      "text/plain": [
       "0.05490700435298773"
      ]
     },
     "execution_count": 44,
     "metadata": {},
     "output_type": "execute_result"
    }
   ],
   "source": [
    "numbers/nWord"
   ]
  },
  {
   "cell_type": "code",
   "execution_count": 45,
   "metadata": {},
   "outputs": [
    {
     "data": {
      "text/plain": [
       "0.0032647407993668383"
      ]
     },
     "execution_count": 45,
     "metadata": {},
     "output_type": "execute_result"
    }
   ],
   "source": [
    "symbolsincluded/nWord"
   ]
  },
  {
   "cell_type": "code",
   "execution_count": 46,
   "metadata": {},
   "outputs": [
    {
     "data": {
      "text/plain": [
       "0.8277601899485556"
      ]
     },
     "execution_count": 46,
     "metadata": {},
     "output_type": "execute_result"
    }
   ],
   "source": [
    "alphabets/nWord"
   ]
  },
  {
   "cell_type": "code",
   "execution_count": 47,
   "metadata": {},
   "outputs": [
    {
     "data": {
      "text/plain": [
       "0.02631578947368421"
      ]
     },
     "execution_count": 47,
     "metadata": {},
     "output_type": "execute_result"
    }
   ],
   "source": [
    "consecutive_char/nWord"
   ]
  },
  {
   "cell_type": "code",
   "execution_count": 48,
   "metadata": {},
   "outputs": [
    {
     "data": {
      "text/plain": [
       "72"
      ]
     },
     "execution_count": 48,
     "metadata": {},
     "output_type": "execute_result"
    }
   ],
   "source": [
    "len(dictionary.keys())"
   ]
  },
  {
   "cell_type": "code",
   "execution_count": 49,
   "metadata": {},
   "outputs": [
    {
     "data": {
      "text/plain": [
       "defaultdict(int,\n",
       "            {' ': 1,\n",
       "             '!': 3,\n",
       "             '&': 3,\n",
       "             \"'\": 1,\n",
       "             '*': 23,\n",
       "             '+': 2,\n",
       "             '-': 2,\n",
       "             '.': 5,\n",
       "             '0': 372,\n",
       "             '1': 1371,\n",
       "             '2': 619,\n",
       "             '3': 407,\n",
       "             '4': 347,\n",
       "             '5': 339,\n",
       "             '6': 311,\n",
       "             '7': 278,\n",
       "             '8': 227,\n",
       "             '9': 323,\n",
       "             ';': 1,\n",
       "             '?': 13,\n",
       "             'A': 11,\n",
       "             'B': 4,\n",
       "             'C': 5,\n",
       "             'D': 4,\n",
       "             'E': 9,\n",
       "             'F': 1,\n",
       "             'H': 2,\n",
       "             'I': 9,\n",
       "             'J': 2,\n",
       "             'K': 1,\n",
       "             'L': 6,\n",
       "             'M': 3,\n",
       "             'N': 2,\n",
       "             'O': 4,\n",
       "             'P': 10,\n",
       "             'R': 7,\n",
       "             'S': 12,\n",
       "             'T': 4,\n",
       "             'U': 4,\n",
       "             'W': 3,\n",
       "             'Y': 1,\n",
       "             '\\\\': 1,\n",
       "             ']': 2,\n",
       "             '^': 1,\n",
       "             '`': 1,\n",
       "             'a': 5597,\n",
       "             'b': 1632,\n",
       "             'c': 2162,\n",
       "             'd': 2061,\n",
       "             'e': 6065,\n",
       "             'f': 900,\n",
       "             'g': 1642,\n",
       "             'h': 1844,\n",
       "             'i': 3888,\n",
       "             'j': 472,\n",
       "             'k': 1129,\n",
       "             'l': 3155,\n",
       "             'm': 2047,\n",
       "             'n': 3935,\n",
       "             'o': 4209,\n",
       "             'p': 1526,\n",
       "             'q': 190,\n",
       "             'r': 4250,\n",
       "             's': 3681,\n",
       "             't': 3174,\n",
       "             'u': 1631,\n",
       "             'v': 607,\n",
       "             'w': 863,\n",
       "             'x': 311,\n",
       "             'y': 1386,\n",
       "             'z': 375,\n",
       "             '|': 1})"
      ]
     },
     "execution_count": 49,
     "metadata": {},
     "output_type": "execute_result"
    }
   ],
   "source": [
    "dictionary"
   ]
  },
  {
   "cell_type": "code",
   "execution_count": null,
   "metadata": {},
   "outputs": [],
   "source": []
  },
  {
   "cell_type": "code",
   "execution_count": 50,
   "metadata": {},
   "outputs": [
    {
     "data": {
      "text/plain": [
       "defaultdict(int, {0: 10076, 1: 22, 2: 4, 3: 1, 4: 1, 5: 2, 6: 2})"
      ]
     },
     "execution_count": 50,
     "metadata": {},
     "output_type": "execute_result"
    }
   ],
   "source": [
    "symbolsdict"
   ]
  },
  {
   "cell_type": "code",
   "execution_count": 51,
   "metadata": {},
   "outputs": [
    {
     "data": {
      "text/plain": [
       "0.9973288484368816"
      ]
     },
     "execution_count": 51,
     "metadata": {},
     "output_type": "execute_result"
    }
   ],
   "source": [
    "10081 / sum(symbolsdict.values())"
   ]
  },
  {
   "cell_type": "code",
   "execution_count": 52,
   "metadata": {},
   "outputs": [
    {
     "data": {
      "text/plain": [
       "defaultdict(int,\n",
       "            {0: 8389,\n",
       "             1: 849,\n",
       "             2: 134,\n",
       "             3: 129,\n",
       "             4: 326,\n",
       "             5: 24,\n",
       "             6: 186,\n",
       "             7: 20,\n",
       "             8: 49,\n",
       "             9: 2})"
      ]
     },
     "execution_count": 52,
     "metadata": {},
     "output_type": "execute_result"
    }
   ],
   "source": [
    "numbersdict"
   ]
  },
  {
   "cell_type": "code",
   "execution_count": 53,
   "metadata": {},
   "outputs": [
    {
     "data": {
      "text/plain": [
       "0.9139295607439651"
      ]
     },
     "execution_count": 53,
     "metadata": {},
     "output_type": "execute_result"
    }
   ],
   "source": [
    "(8389+849)/sum(numbersdict.values())"
   ]
  },
  {
   "cell_type": "code",
   "execution_count": 54,
   "metadata": {},
   "outputs": [
    {
     "data": {
      "text/plain": [
       "defaultdict(int, {0: 10024, 1: 72, 2: 10, 6: 2})"
      ]
     },
     "execution_count": 54,
     "metadata": {},
     "output_type": "execute_result"
    }
   ],
   "source": [
    "upperdict"
   ]
  },
  {
   "cell_type": "code",
   "execution_count": 55,
   "metadata": {},
   "outputs": [
    {
     "data": {
      "text/plain": [
       "0.9921844083893946"
      ]
     },
     "execution_count": 55,
     "metadata": {},
     "output_type": "execute_result"
    }
   ],
   "source": [
    "10029/sum(upperdict.values())"
   ]
  },
  {
   "cell_type": "code",
   "execution_count": 56,
   "metadata": {},
   "outputs": [
    {
     "data": {
      "text/plain": [
       "[('1', 548),\n",
       " ('2', 380),\n",
       " ('0', 289),\n",
       " ('9', 261),\n",
       " ('3', 257),\n",
       " ('5', 251),\n",
       " ('4', 248),\n",
       " ('6', 230),\n",
       " ('7', 222),\n",
       " ('8', 181)]"
      ]
     },
     "execution_count": 56,
     "metadata": {},
     "output_type": "execute_result"
    }
   ],
   "source": [
    "import operator\n",
    "sorted_x = sorted(numberGuessDict.items(), key=operator.itemgetter(1), reverse = True)\n",
    "sorted_x"
   ]
  },
  {
   "cell_type": "code",
   "execution_count": 57,
   "metadata": {},
   "outputs": [],
   "source": [
    "new_dict = {'1': 1376,\n",
    "             '2': 624,\n",
    "             '3': 412,\n",
    "             '4': 352,\n",
    "             '5': 344,\n",
    "             '6': 316,\n",
    "             '7': 282,\n",
    "             '8': 230,\n",
    "             '9': 325}"
   ]
  },
  {
   "cell_type": "code",
   "execution_count": 58,
   "metadata": {},
   "outputs": [
    {
     "name": "stdout",
     "output_type": "stream",
     "text": [
      "1 0.32292888993194085\n",
      "2 0.14644449659704295\n",
      "3 0.09669091762497066\n",
      "4 0.08260971602910115\n",
      "5 0.08073222248298521\n",
      "6 0.07416099507157944\n",
      "7 0.06618164750058672\n",
      "8 0.05397793945083314\n",
      "9 0.07627317531095987\n"
     ]
    }
   ],
   "source": [
    "for key in new_dict.keys():\n",
    "    print(key, new_dict[key]/sum(new_dict.values()))"
   ]
  },
  {
   "cell_type": "code",
   "execution_count": 62,
   "metadata": {},
   "outputs": [],
   "source": [
    "def compute_char(word):\n",
    "    for i in range(len(word)-1):\n",
    "        if(i == 0):\n",
    "            first_character[word[i]] += 1\n",
    "        elif(i == 1):\n",
    "            second_character[word[i]] += 1\n",
    "        elif(i == 2):\n",
    "            third_character[word[i]] += 1\n",
    "        elif(i == 3):\n",
    "            fourth_character[word[i]] += 1\n",
    "        elif(i == 4):\n",
    "            fifth_character[word[i]] += 1\n",
    "        elif(i == 5):\n",
    "            sixth_character[word[i]] += 1\n",
    "\n",
    "    \n",
    "    "
   ]
  },
  {
   "cell_type": "code",
   "execution_count": 63,
   "metadata": {},
   "outputs": [
    {
     "name": "stdout",
     "output_type": "stream",
     "text": [
      "Number of words 10108\n"
     ]
    }
   ],
   "source": [
    "f = open(\"common_passwords.txt\", \"r\")\n",
    "first_character = defaultdict(int)\n",
    "second_character = defaultdict(int)\n",
    "third_character = defaultdict(int)\n",
    "fourth_character = defaultdict(int)\n",
    "fifth_character = defaultdict(int)\n",
    "sixth_character = defaultdict(int)\n",
    "lines = f.readlines()\n",
    "for line in lines:\n",
    "    compute_char(line)\n",
    "print(\"Number of words {}\".format(nWord))\n",
    "f.close()"
   ]
  },
  {
   "cell_type": "code",
   "execution_count": 64,
   "metadata": {},
   "outputs": [
    {
     "data": {
      "text/plain": [
       "defaultdict(int,\n",
       "            {'&': 2,\n",
       "             '*': 3,\n",
       "             '0': 35,\n",
       "             '1': 283,\n",
       "             '2': 70,\n",
       "             '3': 49,\n",
       "             '4': 54,\n",
       "             '5': 52,\n",
       "             '6': 30,\n",
       "             '7': 40,\n",
       "             '8': 23,\n",
       "             '9': 24,\n",
       "             '?': 3,\n",
       "             'A': 5,\n",
       "             'B': 4,\n",
       "             'C': 4,\n",
       "             'D': 3,\n",
       "             'E': 2,\n",
       "             'F': 1,\n",
       "             'H': 1,\n",
       "             'I': 3,\n",
       "             'J': 2,\n",
       "             'K': 1,\n",
       "             'L': 6,\n",
       "             'M': 3,\n",
       "             'P': 4,\n",
       "             'R': 4,\n",
       "             'S': 9,\n",
       "             'U': 1,\n",
       "             'W': 3,\n",
       "             'a': 460,\n",
       "             'b': 794,\n",
       "             'c': 782,\n",
       "             'd': 502,\n",
       "             'e': 225,\n",
       "             'f': 370,\n",
       "             'g': 402,\n",
       "             'h': 409,\n",
       "             'i': 139,\n",
       "             'j': 301,\n",
       "             'k': 229,\n",
       "             'l': 372,\n",
       "             'm': 664,\n",
       "             'n': 249,\n",
       "             'o': 133,\n",
       "             'p': 586,\n",
       "             'q': 70,\n",
       "             'r': 433,\n",
       "             's': 1062,\n",
       "             't': 500,\n",
       "             'u': 54,\n",
       "             'v': 141,\n",
       "             'w': 306,\n",
       "             'x': 36,\n",
       "             'y': 76,\n",
       "             'z': 89})"
      ]
     },
     "execution_count": 64,
     "metadata": {},
     "output_type": "execute_result"
    }
   ],
   "source": [
    "first_character"
   ]
  },
  {
   "cell_type": "code",
   "execution_count": 65,
   "metadata": {},
   "outputs": [
    {
     "data": {
      "text/plain": [
       "defaultdict(int,\n",
       "            {'*': 6,\n",
       "             '.': 2,\n",
       "             '0': 85,\n",
       "             '1': 78,\n",
       "             '2': 112,\n",
       "             '3': 40,\n",
       "             '4': 48,\n",
       "             '5': 51,\n",
       "             '6': 42,\n",
       "             '7': 34,\n",
       "             '8': 46,\n",
       "             '9': 100,\n",
       "             '?': 2,\n",
       "             'A': 3,\n",
       "             'E': 2,\n",
       "             'H': 1,\n",
       "             'I': 3,\n",
       "             'O': 3,\n",
       "             'U': 3,\n",
       "             'a': 1806,\n",
       "             'b': 63,\n",
       "             'c': 119,\n",
       "             'd': 63,\n",
       "             'e': 1161,\n",
       "             'f': 27,\n",
       "             'g': 28,\n",
       "             'h': 521,\n",
       "             'i': 1076,\n",
       "             'j': 16,\n",
       "             'k': 52,\n",
       "             'l': 472,\n",
       "             'm': 133,\n",
       "             'n': 235,\n",
       "             'o': 1522,\n",
       "             'p': 149,\n",
       "             'q': 32,\n",
       "             'r': 640,\n",
       "             's': 113,\n",
       "             't': 226,\n",
       "             'u': 685,\n",
       "             'v': 41,\n",
       "             'w': 94,\n",
       "             'x': 49,\n",
       "             'y': 101,\n",
       "             'z': 23})"
      ]
     },
     "execution_count": 65,
     "metadata": {},
     "output_type": "execute_result"
    }
   ],
   "source": [
    "second_character"
   ]
  },
  {
   "cell_type": "code",
   "execution_count": 66,
   "metadata": {},
   "outputs": [
    {
     "data": {
      "text/plain": [
       "defaultdict(int,\n",
       "            {'&': 1,\n",
       "             '*': 4,\n",
       "             '0': 72,\n",
       "             '1': 82,\n",
       "             '2': 112,\n",
       "             '3': 77,\n",
       "             '4': 51,\n",
       "             '5': 61,\n",
       "             '6': 65,\n",
       "             '7': 57,\n",
       "             '8': 37,\n",
       "             '9': 39,\n",
       "             '?': 3,\n",
       "             'C': 1,\n",
       "             'E': 1,\n",
       "             'O': 1,\n",
       "             'P': 4,\n",
       "             'S': 1,\n",
       "             'Y': 1,\n",
       "             'a': 873,\n",
       "             'b': 223,\n",
       "             'c': 406,\n",
       "             'd': 334,\n",
       "             'e': 638,\n",
       "             'f': 109,\n",
       "             'g': 334,\n",
       "             'h': 93,\n",
       "             'i': 572,\n",
       "             'j': 39,\n",
       "             'k': 103,\n",
       "             'l': 686,\n",
       "             'm': 427,\n",
       "             'n': 893,\n",
       "             'o': 607,\n",
       "             'p': 229,\n",
       "             'q': 24,\n",
       "             'r': 904,\n",
       "             's': 521,\n",
       "             't': 501,\n",
       "             'u': 322,\n",
       "             'v': 172,\n",
       "             'w': 116,\n",
       "             'x': 81,\n",
       "             'y': 146,\n",
       "             'z': 84,\n",
       "             '|': 1})"
      ]
     },
     "execution_count": 66,
     "metadata": {},
     "output_type": "execute_result"
    }
   ],
   "source": [
    "third_character"
   ]
  },
  {
   "cell_type": "code",
   "execution_count": 67,
   "metadata": {},
   "outputs": [
    {
     "data": {
      "text/plain": [
       "defaultdict(int,\n",
       "            {'!': 1,\n",
       "             '*': 4,\n",
       "             '.': 2,\n",
       "             '0': 64,\n",
       "             '1': 111,\n",
       "             '2': 70,\n",
       "             '3': 65,\n",
       "             '4': 72,\n",
       "             '5': 54,\n",
       "             '6': 55,\n",
       "             '7': 60,\n",
       "             '8': 55,\n",
       "             '9': 67,\n",
       "             '?': 2,\n",
       "             'A': 2,\n",
       "             'E': 1,\n",
       "             'P': 2,\n",
       "             'T': 4,\n",
       "             '\\\\': 1,\n",
       "             'a': 626,\n",
       "             'b': 253,\n",
       "             'c': 372,\n",
       "             'd': 462,\n",
       "             'e': 943,\n",
       "             'f': 182,\n",
       "             'g': 373,\n",
       "             'h': 282,\n",
       "             'i': 672,\n",
       "             'j': 50,\n",
       "             'k': 363,\n",
       "             'l': 547,\n",
       "             'm': 369,\n",
       "             'n': 687,\n",
       "             'o': 424,\n",
       "             'p': 293,\n",
       "             'q': 21,\n",
       "             'r': 532,\n",
       "             's': 503,\n",
       "             't': 740,\n",
       "             'u': 164,\n",
       "             'v': 158,\n",
       "             'w': 125,\n",
       "             'x': 37,\n",
       "             'y': 142,\n",
       "             'z': 96})"
      ]
     },
     "execution_count": 67,
     "metadata": {},
     "output_type": "execute_result"
    }
   ],
   "source": [
    "fourth_character"
   ]
  },
  {
   "cell_type": "code",
   "execution_count": 68,
   "metadata": {},
   "outputs": [
    {
     "data": {
      "text/plain": [
       "defaultdict(int,\n",
       "            {'!': 1,\n",
       "             \"'\": 1,\n",
       "             '*': 4,\n",
       "             '0': 36,\n",
       "             '1': 84,\n",
       "             '2': 92,\n",
       "             '3': 44,\n",
       "             '4': 40,\n",
       "             '5': 56,\n",
       "             '6': 38,\n",
       "             '7': 24,\n",
       "             '8': 21,\n",
       "             '9': 25,\n",
       "             ';': 1,\n",
       "             '?': 2,\n",
       "             'E': 3,\n",
       "             'I': 3,\n",
       "             'R': 1,\n",
       "             ']': 2,\n",
       "             '^': 1,\n",
       "             'a': 764,\n",
       "             'b': 186,\n",
       "             'c': 222,\n",
       "             'd': 218,\n",
       "             'e': 1352,\n",
       "             'f': 102,\n",
       "             'g': 158,\n",
       "             'h': 290,\n",
       "             'i': 772,\n",
       "             'j': 37,\n",
       "             'k': 225,\n",
       "             'l': 459,\n",
       "             'm': 223,\n",
       "             'n': 546,\n",
       "             'o': 672,\n",
       "             'p': 147,\n",
       "             'q': 20,\n",
       "             'r': 480,\n",
       "             's': 411,\n",
       "             't': 496,\n",
       "             'u': 187,\n",
       "             'v': 32,\n",
       "             'w': 85,\n",
       "             'x': 30,\n",
       "             'y': 357,\n",
       "             'z': 36})"
      ]
     },
     "execution_count": 68,
     "metadata": {},
     "output_type": "execute_result"
    }
   ],
   "source": [
    "fifth_character"
   ]
  },
  {
   "cell_type": "code",
   "execution_count": 69,
   "metadata": {},
   "outputs": [
    {
     "data": {
      "text/plain": [
       "defaultdict(int,\n",
       "            {' ': 1,\n",
       "             '*': 2,\n",
       "             '+': 1,\n",
       "             '-': 1,\n",
       "             '.': 1,\n",
       "             '0': 47,\n",
       "             '1': 357,\n",
       "             '2': 71,\n",
       "             '3': 76,\n",
       "             '4': 50,\n",
       "             '5': 37,\n",
       "             '6': 47,\n",
       "             '7': 39,\n",
       "             '8': 29,\n",
       "             '9': 40,\n",
       "             '?': 1,\n",
       "             'A': 1,\n",
       "             'D': 1,\n",
       "             'N': 2,\n",
       "             'R': 2,\n",
       "             'S': 2,\n",
       "             'a': 629,\n",
       "             'b': 78,\n",
       "             'c': 145,\n",
       "             'd': 216,\n",
       "             'e': 1021,\n",
       "             'f': 48,\n",
       "             'g': 135,\n",
       "             'h': 146,\n",
       "             'i': 446,\n",
       "             'j': 21,\n",
       "             'k': 51,\n",
       "             'l': 287,\n",
       "             'm': 148,\n",
       "             'n': 719,\n",
       "             'o': 518,\n",
       "             'p': 75,\n",
       "             'q': 16,\n",
       "             'r': 760,\n",
       "             's': 514,\n",
       "             't': 381,\n",
       "             'u': 149,\n",
       "             'v': 41,\n",
       "             'w': 84,\n",
       "             'x': 45,\n",
       "             'y': 332,\n",
       "             'z': 31})"
      ]
     },
     "execution_count": 69,
     "metadata": {},
     "output_type": "execute_result"
    }
   ],
   "source": [
    "sixth_character"
   ]
  },
  {
   "cell_type": "code",
   "execution_count": null,
   "metadata": {},
   "outputs": [],
   "source": []
  }
 ],
 "metadata": {
  "kernelspec": {
   "display_name": "Python 3",
   "language": "python",
   "name": "python3"
  },
  "language_info": {
   "codemirror_mode": {
    "name": "ipython",
    "version": 3
   },
   "file_extension": ".py",
   "mimetype": "text/x-python",
   "name": "python",
   "nbconvert_exporter": "python",
   "pygments_lexer": "ipython3",
   "version": "3.6.4"
  }
 },
 "nbformat": 4,
 "nbformat_minor": 2
}
