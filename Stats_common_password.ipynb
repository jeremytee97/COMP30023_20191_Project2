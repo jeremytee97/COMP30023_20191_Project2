{
 "cells": [
  {
   "cell_type": "code",
   "execution_count": 230,
   "metadata": {},
   "outputs": [],
   "source": [
    "from collections import defaultdict\n",
    "import string\n",
    "import re\n",
    "f = open(\"common_passwords.txt\", \"r\")"
   ]
  },
  {
   "cell_type": "code",
   "execution_count": 231,
   "metadata": {},
   "outputs": [],
   "source": [
    "lines = f.readlines()"
   ]
  },
  {
   "cell_type": "code",
   "execution_count": 232,
   "metadata": {},
   "outputs": [],
   "source": [
    "dictionary = defaultdict(int)\n",
    "symbolsdict = defaultdict(int)\n",
    "numbersdict = defaultdict(int)\n",
    "upperdict = defaultdict(int)\n",
    "nWord = 0\n",
    "alphabets = 0\n",
    "alphanumeric = 0\n",
    "numbers = 0\n",
    "symbolsincluded = 0\n",
    "consecutive_char = 0\n",
    "def consecutive(string):\n",
    "    if re.search(r'(.)\\1\\1', string):\n",
    "        return True\n",
    "\n",
    "def compute(word):\n",
    "    #print(word)\n",
    "    #print(len(word))\n",
    "    max_symbols = 0\n",
    "    max_numbers = 0\n",
    "    max_upper = 0\n",
    "    for i in range(len(word)-1):\n",
    "        if(word[i] in string.punctuation):\n",
    "            max_symbols +=1\n",
    "        if(word[i].isdigit()):\n",
    "            max_numbers +=1\n",
    "        if(word[i].isalpha() & word[i].isupper()):\n",
    "            max_upper +=1\n",
    "        dictionary[word[i]]+=1\n",
    "    symbolsdict[max_symbols] +=1\n",
    "    numbersdict[max_numbers] +=1\n",
    "    upperdict[max_upper] +=1"
   ]
  },
  {
   "cell_type": "code",
   "execution_count": 233,
   "metadata": {},
   "outputs": [
    {
     "name": "stdout",
     "output_type": "stream",
     "text": [
      "Number of words 10025\n"
     ]
    }
   ],
   "source": [
    "for line in lines:\n",
    "    if(line[:-1].isdigit()):\n",
    "        numbers+=1\n",
    "    elif(line[:-1].isalpha()):\n",
    "        alphabets+=1\n",
    "    elif(line[:-1].isalnum()):\n",
    "        alphanumeric+=1\n",
    "    else:\n",
    "        symbolsincluded+=1\n",
    "    if consecutive(line[:-1]):\n",
    "        consecutive_char +=1\n",
    "    compute(line)\n",
    "    nWord += 1\n",
    "print(\"Number of words {}\".format(nWord))\n",
    "f.close()"
   ]
  },
  {
   "cell_type": "code",
   "execution_count": 234,
   "metadata": {},
   "outputs": [
    {
     "data": {
      "text/plain": [
       "63020"
      ]
     },
     "execution_count": 234,
     "metadata": {},
     "output_type": "execute_result"
    }
   ],
   "source": [
    "sum(dictionary.values())"
   ]
  },
  {
   "cell_type": "code",
   "execution_count": 235,
   "metadata": {},
   "outputs": [
    {
     "data": {
      "text/plain": [
       "0.11351620947630922"
      ]
     },
     "execution_count": 235,
     "metadata": {},
     "output_type": "execute_result"
    }
   ],
   "source": [
    "alphanumeric / word"
   ]
  },
  {
   "cell_type": "code",
   "execution_count": 236,
   "metadata": {},
   "outputs": [
    {
     "data": {
      "text/plain": [
       "0.05556109725685786"
      ]
     },
     "execution_count": 236,
     "metadata": {},
     "output_type": "execute_result"
    }
   ],
   "source": [
    "numbers/word"
   ]
  },
  {
   "cell_type": "code",
   "execution_count": 237,
   "metadata": {},
   "outputs": [
    {
     "data": {
      "text/plain": [
       "0.006384039900249377"
      ]
     },
     "execution_count": 237,
     "metadata": {},
     "output_type": "execute_result"
    }
   ],
   "source": [
    "symbolsincluded/word"
   ]
  },
  {
   "cell_type": "code",
   "execution_count": 238,
   "metadata": {},
   "outputs": [
    {
     "data": {
      "text/plain": [
       "0.8245386533665835"
      ]
     },
     "execution_count": 238,
     "metadata": {},
     "output_type": "execute_result"
    }
   ],
   "source": [
    "alphabets/word"
   ]
  },
  {
   "cell_type": "code",
   "execution_count": 239,
   "metadata": {},
   "outputs": [
    {
     "data": {
      "text/plain": [
       "0.02653366583541147"
      ]
     },
     "execution_count": 239,
     "metadata": {},
     "output_type": "execute_result"
    }
   ],
   "source": [
    "consecutive_char/word"
   ]
  },
  {
   "cell_type": "code",
   "execution_count": 240,
   "metadata": {},
   "outputs": [
    {
     "data": {
      "text/plain": [
       "70"
      ]
     },
     "execution_count": 240,
     "metadata": {},
     "output_type": "execute_result"
    }
   ],
   "source": [
    "len(dictionary.keys())"
   ]
  },
  {
   "cell_type": "code",
   "execution_count": 241,
   "metadata": {},
   "outputs": [
    {
     "data": {
      "text/plain": [
       "defaultdict(int,\n",
       "            {' ': 38,\n",
       "             '!': 2,\n",
       "             '%': 1,\n",
       "             '&': 3,\n",
       "             \"'\": 1,\n",
       "             '*': 19,\n",
       "             '+': 2,\n",
       "             '-': 2,\n",
       "             '.': 5,\n",
       "             '0': 370,\n",
       "             '1': 1372,\n",
       "             '2': 615,\n",
       "             '3': 408,\n",
       "             '4': 349,\n",
       "             '5': 341,\n",
       "             '6': 313,\n",
       "             '7': 283,\n",
       "             '8': 229,\n",
       "             '9': 325,\n",
       "             ';': 1,\n",
       "             '?': 13,\n",
       "             'A': 9,\n",
       "             'B': 1,\n",
       "             'C': 5,\n",
       "             'D': 3,\n",
       "             'E': 8,\n",
       "             'F': 1,\n",
       "             'H': 2,\n",
       "             'I': 6,\n",
       "             'J': 2,\n",
       "             'L': 4,\n",
       "             'M': 3,\n",
       "             'N': 2,\n",
       "             'O': 7,\n",
       "             'P': 8,\n",
       "             'R': 7,\n",
       "             'S': 6,\n",
       "             'T': 4,\n",
       "             'U': 3,\n",
       "             'W': 3,\n",
       "             'Y': 1,\n",
       "             '\\\\': 1,\n",
       "             ']': 3,\n",
       "             'a': 5536,\n",
       "             'b': 1623,\n",
       "             'c': 2143,\n",
       "             'd': 2049,\n",
       "             'e': 6013,\n",
       "             'f': 893,\n",
       "             'g': 1631,\n",
       "             'h': 1825,\n",
       "             'i': 3849,\n",
       "             'j': 471,\n",
       "             'k': 1114,\n",
       "             'l': 3111,\n",
       "             'm': 2024,\n",
       "             'n': 3909,\n",
       "             'o': 4181,\n",
       "             'p': 1511,\n",
       "             'q': 190,\n",
       "             'r': 4227,\n",
       "             's': 3650,\n",
       "             't': 3158,\n",
       "             'u': 1620,\n",
       "             'v': 598,\n",
       "             'w': 856,\n",
       "             'x': 310,\n",
       "             'y': 1372,\n",
       "             'z': 374,\n",
       "             '|': 1})"
      ]
     },
     "execution_count": 241,
     "metadata": {},
     "output_type": "execute_result"
    }
   ],
   "source": [
    "dictionary"
   ]
  },
  {
   "cell_type": "code",
   "execution_count": 242,
   "metadata": {},
   "outputs": [
    {
     "data": {
      "text/plain": [
       "0"
      ]
     },
     "execution_count": 242,
     "metadata": {},
     "output_type": "execute_result"
    }
   ],
   "source": [
    "max_symbols"
   ]
  },
  {
   "cell_type": "code",
   "execution_count": 243,
   "metadata": {},
   "outputs": [
    {
     "data": {
      "text/plain": [
       "defaultdict(int, {0: 9998, 1: 17, 2: 4, 3: 1, 4: 1, 5: 2, 6: 2})"
      ]
     },
     "execution_count": 243,
     "metadata": {},
     "output_type": "execute_result"
    }
   ],
   "source": [
    "symbolsdict"
   ]
  },
  {
   "cell_type": "code",
   "execution_count": 244,
   "metadata": {},
   "outputs": [
    {
     "data": {
      "text/plain": [
       "0.9973067331670823"
      ]
     },
     "execution_count": 244,
     "metadata": {},
     "output_type": "execute_result"
    }
   ],
   "source": [
    "9998 / sum(symbolsdict.values())"
   ]
  },
  {
   "cell_type": "code",
   "execution_count": 245,
   "metadata": {},
   "outputs": [
    {
     "data": {
      "text/plain": [
       "defaultdict(int,\n",
       "            {0: 8312,\n",
       "             1: 845,\n",
       "             2: 132,\n",
       "             3: 127,\n",
       "             4: 325,\n",
       "             5: 23,\n",
       "             6: 186,\n",
       "             7: 21,\n",
       "             8: 50,\n",
       "             9: 3,\n",
       "             10: 1})"
      ]
     },
     "execution_count": 245,
     "metadata": {},
     "output_type": "execute_result"
    }
   ],
   "source": [
    "numbersdict"
   ]
  },
  {
   "cell_type": "code",
   "execution_count": 246,
   "metadata": {},
   "outputs": [
    {
     "data": {
      "text/plain": [
       "0.8422942643391521"
      ]
     },
     "execution_count": 246,
     "metadata": {},
     "output_type": "execute_result"
    }
   ],
   "source": [
    "(8312+132)/sum(symbolsdict.values())"
   ]
  },
  {
   "cell_type": "code",
   "execution_count": 247,
   "metadata": {},
   "outputs": [
    {
     "data": {
      "text/plain": [
       "defaultdict(int, {0: 9958, 1: 57, 2: 8, 6: 2})"
      ]
     },
     "execution_count": 247,
     "metadata": {},
     "output_type": "execute_result"
    }
   ],
   "source": [
    "upperdict"
   ]
  },
  {
   "cell_type": "code",
   "execution_count": 248,
   "metadata": {},
   "outputs": [
    {
     "data": {
      "text/plain": [
       "0.9933167082294264"
      ]
     },
     "execution_count": 248,
     "metadata": {},
     "output_type": "execute_result"
    }
   ],
   "source": [
    "9958/sum(upperdict.values())"
   ]
  },
  {
   "cell_type": "code",
   "execution_count": null,
   "metadata": {},
   "outputs": [],
   "source": []
  }
 ],
 "metadata": {
  "kernelspec": {
   "display_name": "Python 3",
   "language": "python",
   "name": "python3"
  },
  "language_info": {
   "codemirror_mode": {
    "name": "ipython",
    "version": 3
   },
   "file_extension": ".py",
   "mimetype": "text/x-python",
   "name": "python",
   "nbconvert_exporter": "python",
   "pygments_lexer": "ipython3",
   "version": "3.6.4"
  }
 },
 "nbformat": 4,
 "nbformat_minor": 2
}
