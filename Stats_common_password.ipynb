{
 "cells": [
  {
   "cell_type": "code",
   "execution_count": 117,
   "metadata": {},
   "outputs": [],
   "source": [
    "from collections import defaultdict\n",
    "import string\n",
    "import re\n",
    "f = open(\"common_passwords.txt\", \"r\")"
   ]
  },
  {
   "cell_type": "code",
   "execution_count": 118,
   "metadata": {},
   "outputs": [],
   "source": [
    "lines = f.readlines()"
   ]
  },
  {
   "cell_type": "code",
   "execution_count": 119,
   "metadata": {},
   "outputs": [],
   "source": [
    "dictionary = defaultdict(int)\n",
    "symbolsdict = defaultdict(int)\n",
    "numbersdict = defaultdict(int)\n",
    "upperdict = defaultdict(int)\n",
    "numberGuessDict = defaultdict(int)\n",
    "nWord = 0\n",
    "alphabets = 0\n",
    "alphanumeric = 0\n",
    "numbers = 0\n",
    "symbolsincluded = 0\n",
    "consecutive_char = 0\n",
    "def consecutive(string):\n",
    "    if re.search(r'(.)\\1\\1', string):\n",
    "        return True\n",
    "\n",
    "def compute(word):\n",
    "    #print(word)\n",
    "    #print(len(word))\n",
    "    max_symbols = 0\n",
    "    max_numbers = 0\n",
    "    max_upper = 0\n",
    "    for i in range(len(word)-1):\n",
    "        if(word[i] in string.punctuation):\n",
    "            max_symbols +=1\n",
    "        if(word[i].isdigit()):\n",
    "            max_numbers +=1\n",
    "        if(word[i].isalpha() & word[i].isupper()):\n",
    "            max_upper +=1\n",
    "        dictionary[word[i]]+=1\n",
    "    symbolsdict[max_symbols] +=1\n",
    "    numbersdict[max_numbers] +=1\n",
    "    upperdict[max_upper] +=1\n",
    "\n",
    "def calculate_numbers_prob(number):\n",
    "     for i in range(len(number)-1):\n",
    "        numberGuessDict[number[i]]+=1"
   ]
  },
  {
   "cell_type": "code",
   "execution_count": 120,
   "metadata": {},
   "outputs": [
    {
     "name": "stdout",
     "output_type": "stream",
     "text": [
      "Number of words 10108\n"
     ]
    }
   ],
   "source": [
    "for line in lines:\n",
    "    if(line[:-1].isdigit()):\n",
    "        numbers+=1\n",
    "        calculate_numbers_prob(line)\n",
    "    elif(line[:-1].isalpha()):\n",
    "        alphabets+=1\n",
    "    elif(line[:-1].isalnum()):\n",
    "        alphanumeric+=1\n",
    "    else:\n",
    "        symbolsincluded+=1\n",
    "    if consecutive(line[:-1]):\n",
    "        consecutive_char +=1\n",
    "    compute(line)\n",
    "    nWord += 1\n",
    "print(\"Number of words {}\".format(nWord))\n",
    "f.close()"
   ]
  },
  {
   "cell_type": "markdown",
   "metadata": {},
   "source": [
    "### total number of characters"
   ]
  },
  {
   "cell_type": "code",
   "execution_count": 121,
   "metadata": {},
   "outputs": [
    {
     "data": {
      "text/plain": [
       "63490"
      ]
     },
     "execution_count": 121,
     "metadata": {},
     "output_type": "execute_result"
    }
   ],
   "source": [
    "sum(dictionary.values())"
   ]
  },
  {
   "cell_type": "markdown",
   "metadata": {},
   "source": [
    "### % of alphanumeric pass, % of numbers pass, % of alphabets pass and % of passwords with symbols"
   ]
  },
  {
   "cell_type": "code",
   "execution_count": 122,
   "metadata": {},
   "outputs": [
    {
     "data": {
      "text/plain": [
       "0.11406806489908983"
      ]
     },
     "execution_count": 122,
     "metadata": {},
     "output_type": "execute_result"
    }
   ],
   "source": [
    "alphanumeric / nWord"
   ]
  },
  {
   "cell_type": "code",
   "execution_count": 123,
   "metadata": {},
   "outputs": [
    {
     "data": {
      "text/plain": [
       "0.05490700435298773"
      ]
     },
     "execution_count": 123,
     "metadata": {},
     "output_type": "execute_result"
    }
   ],
   "source": [
    "numbers/nWord"
   ]
  },
  {
   "cell_type": "code",
   "execution_count": 124,
   "metadata": {},
   "outputs": [
    {
     "data": {
      "text/plain": [
       "0.0032647407993668383"
      ]
     },
     "execution_count": 124,
     "metadata": {},
     "output_type": "execute_result"
    }
   ],
   "source": [
    "symbolsincluded/nWord"
   ]
  },
  {
   "cell_type": "code",
   "execution_count": 125,
   "metadata": {},
   "outputs": [
    {
     "data": {
      "text/plain": [
       "0.8277601899485556"
      ]
     },
     "execution_count": 125,
     "metadata": {},
     "output_type": "execute_result"
    }
   ],
   "source": [
    "alphabets/nWord"
   ]
  },
  {
   "cell_type": "code",
   "execution_count": 126,
   "metadata": {},
   "outputs": [
    {
     "data": {
      "text/plain": [
       "0.02631578947368421"
      ]
     },
     "execution_count": 126,
     "metadata": {},
     "output_type": "execute_result"
    }
   ],
   "source": [
    "### 3 % of passwords has consecutive character\n",
    "consecutive_char/nWord"
   ]
  },
  {
   "cell_type": "code",
   "execution_count": 127,
   "metadata": {},
   "outputs": [
    {
     "data": {
      "text/plain": [
       "72"
      ]
     },
     "execution_count": 127,
     "metadata": {},
     "output_type": "execute_result"
    }
   ],
   "source": [
    "len(dictionary.keys())"
   ]
  },
  {
   "cell_type": "code",
   "execution_count": 128,
   "metadata": {},
   "outputs": [
    {
     "data": {
      "text/plain": [
       "defaultdict(int,\n",
       "            {' ': 1,\n",
       "             '!': 3,\n",
       "             '&': 3,\n",
       "             \"'\": 1,\n",
       "             '*': 23,\n",
       "             '+': 2,\n",
       "             '-': 2,\n",
       "             '.': 5,\n",
       "             '0': 372,\n",
       "             '1': 1371,\n",
       "             '2': 619,\n",
       "             '3': 407,\n",
       "             '4': 347,\n",
       "             '5': 339,\n",
       "             '6': 311,\n",
       "             '7': 278,\n",
       "             '8': 227,\n",
       "             '9': 323,\n",
       "             ';': 1,\n",
       "             '?': 13,\n",
       "             'A': 11,\n",
       "             'B': 4,\n",
       "             'C': 5,\n",
       "             'D': 4,\n",
       "             'E': 9,\n",
       "             'F': 1,\n",
       "             'H': 2,\n",
       "             'I': 9,\n",
       "             'J': 2,\n",
       "             'K': 1,\n",
       "             'L': 6,\n",
       "             'M': 3,\n",
       "             'N': 2,\n",
       "             'O': 4,\n",
       "             'P': 10,\n",
       "             'R': 7,\n",
       "             'S': 12,\n",
       "             'T': 4,\n",
       "             'U': 4,\n",
       "             'W': 3,\n",
       "             'Y': 1,\n",
       "             '\\\\': 1,\n",
       "             ']': 2,\n",
       "             '^': 1,\n",
       "             '`': 1,\n",
       "             'a': 5597,\n",
       "             'b': 1632,\n",
       "             'c': 2162,\n",
       "             'd': 2061,\n",
       "             'e': 6065,\n",
       "             'f': 900,\n",
       "             'g': 1642,\n",
       "             'h': 1844,\n",
       "             'i': 3888,\n",
       "             'j': 472,\n",
       "             'k': 1129,\n",
       "             'l': 3155,\n",
       "             'm': 2047,\n",
       "             'n': 3935,\n",
       "             'o': 4209,\n",
       "             'p': 1526,\n",
       "             'q': 190,\n",
       "             'r': 4250,\n",
       "             's': 3681,\n",
       "             't': 3174,\n",
       "             'u': 1631,\n",
       "             'v': 607,\n",
       "             'w': 863,\n",
       "             'x': 311,\n",
       "             'y': 1386,\n",
       "             'z': 375,\n",
       "             '|': 1})"
      ]
     },
     "execution_count": 128,
     "metadata": {},
     "output_type": "execute_result"
    }
   ],
   "source": [
    "dictionary"
   ]
  },
  {
   "cell_type": "code",
   "execution_count": 129,
   "metadata": {},
   "outputs": [
    {
     "data": {
      "text/plain": [
       "defaultdict(int, {0: 10076, 1: 22, 2: 4, 3: 1, 4: 1, 5: 2, 6: 2})"
      ]
     },
     "execution_count": 129,
     "metadata": {},
     "output_type": "execute_result"
    }
   ],
   "source": [
    "symbolsdict"
   ]
  },
  {
   "cell_type": "code",
   "execution_count": 130,
   "metadata": {},
   "outputs": [
    {
     "data": {
      "text/plain": [
       "0.9973288484368816"
      ]
     },
     "execution_count": 130,
     "metadata": {},
     "output_type": "execute_result"
    }
   ],
   "source": [
    "# 99% of words dont have symbols \n",
    "10081 / sum(symbolsdict.values())"
   ]
  },
  {
   "cell_type": "code",
   "execution_count": 131,
   "metadata": {},
   "outputs": [
    {
     "data": {
      "text/plain": [
       "defaultdict(int,\n",
       "            {0: 8389,\n",
       "             1: 849,\n",
       "             2: 134,\n",
       "             3: 129,\n",
       "             4: 326,\n",
       "             5: 24,\n",
       "             6: 186,\n",
       "             7: 20,\n",
       "             8: 49,\n",
       "             9: 2})"
      ]
     },
     "execution_count": 131,
     "metadata": {},
     "output_type": "execute_result"
    }
   ],
   "source": [
    "numbersdict"
   ]
  },
  {
   "cell_type": "code",
   "execution_count": 132,
   "metadata": {},
   "outputs": [
    {
     "data": {
      "text/plain": [
       "defaultdict(int, {0: 10024, 1: 72, 2: 10, 6: 2})"
      ]
     },
     "execution_count": 132,
     "metadata": {},
     "output_type": "execute_result"
    }
   ],
   "source": [
    "upperdict"
   ]
  },
  {
   "cell_type": "code",
   "execution_count": 133,
   "metadata": {},
   "outputs": [
    {
     "data": {
      "text/plain": [
       "0.9921844083893946"
      ]
     },
     "execution_count": 133,
     "metadata": {},
     "output_type": "execute_result"
    }
   ],
   "source": [
    "## 99% of words dont have uppercase\n",
    "10029/sum(upperdict.values())"
   ]
  },
  {
   "cell_type": "code",
   "execution_count": 134,
   "metadata": {},
   "outputs": [
    {
     "data": {
      "text/plain": [
       "[('1', 548),\n",
       " ('2', 380),\n",
       " ('0', 289),\n",
       " ('9', 261),\n",
       " ('3', 257),\n",
       " ('5', 251),\n",
       " ('4', 248),\n",
       " ('6', 230),\n",
       " ('7', 222),\n",
       " ('8', 181)]"
      ]
     },
     "execution_count": 134,
     "metadata": {},
     "output_type": "execute_result"
    }
   ],
   "source": [
    "import operator\n",
    "sorted_x = sorted(numberGuessDict.items(), key=operator.itemgetter(1), reverse = True)\n",
    "sorted_x"
   ]
  },
  {
   "cell_type": "code",
   "execution_count": 181,
   "metadata": {},
   "outputs": [],
   "source": [
    "new_dict = { '0': 289,\n",
    "             '1': 1376,\n",
    "             '2': 624,\n",
    "             '3': 412,\n",
    "             '4': 352,\n",
    "             '5': 344,\n",
    "             '6': 316,\n",
    "             '7': 282,\n",
    "             '8': 230,\n",
    "             '9': 325}"
   ]
  },
  {
   "cell_type": "markdown",
   "metadata": {},
   "source": [
    "## percentage of each number appearing in the passwords"
   ]
  },
  {
   "cell_type": "code",
   "execution_count": 182,
   "metadata": {},
   "outputs": [
    {
     "name": "stdout",
     "output_type": "stream",
     "text": [
      "0 0.06351648351648352\n",
      "1 0.3659340659340659\n",
      "2 0.5030769230769231\n",
      "3 0.5936263736263736\n",
      "4 0.670989010989011\n",
      "5 0.7465934065934066\n",
      "6 0.8160439560439561\n",
      "7 0.878021978021978\n",
      "8 0.9285714285714286\n",
      "9 1.0\n"
     ]
    }
   ],
   "source": [
    "cummulative = 0\n",
    "for key in new_dict.keys():\n",
    "    cummulative += new_dict[key]\n",
    "    print(key, cummulative/sum(new_dict.values()))"
   ]
  },
  {
   "cell_type": "markdown",
   "metadata": {},
   "source": [
    "## GET DISTRIBUTION FOR EACH INDEX OF GUESS"
   ]
  },
  {
   "cell_type": "code",
   "execution_count": 137,
   "metadata": {},
   "outputs": [],
   "source": [
    "def compute_char(word):\n",
    "    for i in range(len(word)-1):\n",
    "        if(i == 0):\n",
    "            first_character[word[i]] += 1\n",
    "        elif(i == 1):\n",
    "            second_character[word[i]] += 1\n",
    "        elif(i == 2):\n",
    "            third_character[word[i]] += 1\n",
    "        elif(i == 3):\n",
    "            fourth_character[word[i]] += 1\n",
    "        elif(i == 4):\n",
    "            fifth_character[word[i]] += 1\n",
    "        elif(i == 5):\n",
    "            sixth_character[word[i]] += 1\n",
    "\n",
    "    \n",
    "    "
   ]
  },
  {
   "cell_type": "code",
   "execution_count": 138,
   "metadata": {},
   "outputs": [
    {
     "name": "stdout",
     "output_type": "stream",
     "text": [
      "Number of words 10108\n"
     ]
    }
   ],
   "source": [
    "f = open(\"common_passwords.txt\", \"r\")\n",
    "first_character = defaultdict(int)\n",
    "second_character = defaultdict(int)\n",
    "third_character = defaultdict(int)\n",
    "fourth_character = defaultdict(int)\n",
    "fifth_character = defaultdict(int)\n",
    "sixth_character = defaultdict(int)\n",
    "lines = f.readlines()\n",
    "for line in lines:\n",
    "    compute_char(line)\n",
    "print(\"Number of words {}\".format(nWord))\n",
    "f.close()"
   ]
  },
  {
   "cell_type": "markdown",
   "metadata": {},
   "source": [
    "## ALPHABETS PASSWORD CUMMULATIVE DISTRIBUTION"
   ]
  },
  {
   "cell_type": "code",
   "execution_count": 139,
   "metadata": {},
   "outputs": [
    {
     "name": "stdout",
     "output_type": "stream",
     "text": [
      "lowercase % in alphabets 0.9940677966101695\n",
      "uppercase % in alphabets 0.005932203389830509\n",
      "a 0.049019607843137254\n",
      "b 0.1336317135549872\n",
      "c 0.21696504688832052\n",
      "d 0.27046035805626595\n",
      "e 0.29443734015345263\n",
      "f 0.3338661551577152\n",
      "g 0.3767050298380221\n",
      "h 0.42028985507246375\n",
      "i 0.4351023017902813\n",
      "j 0.4671781756180733\n",
      "k 0.4915814151747655\n",
      "l 0.5312233589087808\n",
      "m 0.6019820971867007\n",
      "n 0.6285166240409207\n",
      "o 0.64268968456948\n",
      "p 0.7051364023870418\n",
      "q 0.7125959079283888\n",
      "r 0.7587382779198636\n",
      "s 0.8719096334185849\n",
      "t 0.9251918158567776\n",
      "u 0.9309462915601023\n",
      "v 0.9459718670076727\n",
      "w 0.9785805626598466\n",
      "x 0.9824168797953965\n",
      "y 0.9905157715260018\n",
      "z 1.0\n"
     ]
    }
   ],
   "source": [
    "# FIRST INDEX\n",
    "lowercase_first_char = 0\n",
    "uppercase_first_char = 0\n",
    "for i in first_character.keys():\n",
    "    if i.islower():\n",
    "        lowercase_first_char += first_character[i]\n",
    "\n",
    "\n",
    "for i in first_character.keys():\n",
    "    if i.isupper():\n",
    "        uppercase_first_char += first_character[i]\n",
    "\n",
    "\n",
    "total = lowercase_first_char + uppercase_first_char\n",
    "print(\"lowercase % in alphabets {}\".format(lowercase_first_char/total))\n",
    "print(\"uppercase % in alphabets {}\".format(uppercase_first_char/total))\n",
    "\n",
    "cummulative_percentage = 0\n",
    "for i in ['a', 'b', 'c', 'd', 'e', 'f', 'g','h','i','j','k','l','m','n','o','p','q','r','s','t','u','v','w','x','y','z']:\n",
    "    if i.islower():\n",
    "        cummulative_percentage += first_character[i]/lowercase_first_char\n",
    "        print(i, cummulative_percentage)"
   ]
  },
  {
   "cell_type": "code",
   "execution_count": 140,
   "metadata": {},
   "outputs": [
    {
     "name": "stdout",
     "output_type": "stream",
     "text": [
      "lowercase % in alphabets 0.998414711477489\n",
      "uppercase % in alphabets 0.0015852885225110971\n",
      "a 0.19117180057161004\n",
      "b 0.19784058431248017\n",
      "c 0.2104371758230126\n",
      "d 0.21710595956388273\n",
      "e 0.34000211707420347\n",
      "f 0.3428601672488621\n",
      "g 0.34582407113369323\n",
      "h 0.4009738541335874\n",
      "i 0.5148724462792421\n",
      "j 0.5165661056420028\n",
      "k 0.522070498570975\n",
      "l 0.5720334497724145\n",
      "m 0.5861119932253626\n",
      "n 0.6109876151159098\n",
      "o 0.7720969619985181\n",
      "p 0.7878691648142268\n",
      "q 0.7912564835397481\n",
      "r 0.8590028580501747\n",
      "s 0.8709643272996719\n",
      "t 0.8948872657986663\n",
      "u 0.9673970572668572\n",
      "v 0.9717370593839314\n",
      "w 0.9816873081401503\n",
      "x 0.9868741399386048\n",
      "y 0.9975653646660315\n",
      "z 1.0\n"
     ]
    }
   ],
   "source": [
    "# SECOND INDEX\n",
    "lowercase_second_char = 0\n",
    "uppercase_second_char = 0\n",
    "for i in second_character.keys():\n",
    "    if i.islower():\n",
    "        lowercase_second_char += second_character[i]\n",
    "\n",
    "\n",
    "for i in second_character.keys():\n",
    "    if i.isupper():\n",
    "        uppercase_second_char += second_character[i]\n",
    "\n",
    "\n",
    "total = lowercase_second_char + uppercase_second_char\n",
    "print(\"lowercase % in alphabets {}\".format(lowercase_second_char/total))\n",
    "print(\"uppercase % in alphabets {}\".format(uppercase_second_char/total))\n",
    "\n",
    "cummulative_percentage = 0\n",
    "for i in ['a', 'b', 'c', 'd', 'e', 'f', 'g','h','i','j','k','l','m','n','o','p','q','r','s','t','u','v','w','x','y','z']:\n",
    "    if i.islower():\n",
    "        cummulative_percentage += second_character[i]/lowercase_second_char\n",
    "        print(i, cummulative_percentage)"
   ]
  },
  {
   "cell_type": "code",
   "execution_count": 141,
   "metadata": {},
   "outputs": [
    {
     "name": "stdout",
     "output_type": "stream",
     "text": [
      "lowercase % in alphabets 0.9990472157526995\n",
      "uppercase % in alphabets 0.0009527842473004446\n",
      "a 0.09250821235562148\n",
      "b 0.11613860336971495\n",
      "c 0.15916075023842322\n",
      "d 0.19455335382006994\n",
      "e 0.2621595846137544\n",
      "f 0.2737098654233337\n",
      "g 0.3091024690049804\n",
      "h 0.31895729575076825\n",
      "i 0.3795697785313129\n",
      "j 0.38370244781180457\n",
      "k 0.39461693334746206\n",
      "l 0.4673095263325209\n",
      "m 0.5125569566599555\n",
      "n 0.6071844865953163\n",
      "o 0.6715057751404048\n",
      "p 0.69577196142842\n",
      "q 0.6983151425241072\n",
      "r 0.7941082971283246\n",
      "s 0.849316520080534\n",
      "t 0.9024054254530041\n",
      "u 0.9365264384868072\n",
      "v 0.9547525696725654\n",
      "w 0.9670446116350535\n",
      "x 0.9756278478329977\n",
      "y 0.9910988661650948\n",
      "z 1.0\n"
     ]
    }
   ],
   "source": [
    "# THIRD INDEX\n",
    "lowercase_third_char = 0\n",
    "uppercase_third_char = 0\n",
    "for i in third_character.keys():\n",
    "    if i.islower():\n",
    "        lowercase_third_char += third_character[i]\n",
    "\n",
    "\n",
    "for i in third_character.keys():\n",
    "    if i.isupper():\n",
    "        uppercase_third_char += third_character[i]\n",
    "\n",
    "\n",
    "total = lowercase_third_char + uppercase_third_char\n",
    "print(\"lowercase % in alphabets {}\".format(lowercase_third_char/total))\n",
    "print(\"uppercase % in alphabets {}\".format(uppercase_third_char/total))\n",
    "\n",
    "cummulative_percentage = 0\n",
    "for i in ['a', 'b', 'c', 'd', 'e', 'f', 'g','h','i','j','k','l','m','n','o','p','q','r','s','t','u','v','w','x','y','z']:\n",
    "    if i.islower():\n",
    "        cummulative_percentage += third_character[i]/lowercase_third_char\n",
    "        print(i, cummulative_percentage)"
   ]
  },
  {
   "cell_type": "code",
   "execution_count": 147,
   "metadata": {},
   "outputs": [
    {
     "name": "stdout",
     "output_type": "stream",
     "text": [
      "lowercase % in alphabets 0.9990450928381963\n",
      "uppercase % in alphabets 0.0009549071618037135\n",
      "a 0.06648258283772303\n",
      "b 0.0933517417162277\n",
      "c 0.1328589634664401\n",
      "d 0.18192438402718777\n",
      "e 0.2820730671197961\n",
      "f 0.3014018691588785\n",
      "g 0.34101529311809686\n",
      "h 0.370964316057774\n",
      "i 0.4423322005097706\n",
      "j 0.447642310960068\n",
      "k 0.4861937128292269\n",
      "l 0.5442863211554801\n",
      "m 0.5834749362786747\n",
      "n 0.6564358538657605\n",
      "o 0.7014655904842821\n",
      "p 0.7325828377230247\n",
      "q 0.7348130841121496\n",
      "r 0.7913126593033136\n",
      "s 0.8447323704333052\n",
      "t 0.9233220050977062\n",
      "u 0.9407391673746816\n",
      "v 0.9575191163976212\n",
      "w 0.9707943925233646\n",
      "x 0.9747238742565847\n",
      "y 0.9898045879354292\n",
      "z 1.0000000000000002\n"
     ]
    }
   ],
   "source": [
    "#FOURTH INDEX\n",
    "\n",
    "lowercase_fourth_char = 0\n",
    "uppercase_fourth_char = 0\n",
    "for i in fourth_character.keys():\n",
    "    if i.islower():\n",
    "        lowercase_fourth_char += fourth_character[i]\n",
    "\n",
    "\n",
    "for i in fourth_character.keys():\n",
    "    if i.isupper():\n",
    "        uppercase_fourth_char += fourth_character[i]\n",
    "\n",
    "\n",
    "total = lowercase_fourth_char + uppercase_fourth_char\n",
    "print(\"lowercase % in alphabets {}\".format(lowercase_fourth_char/total))\n",
    "print(\"uppercase % in alphabets {}\".format(uppercase_fourth_char/total))\n",
    "\n",
    "cummulative_percentage = 0\n",
    "for i in ['a', 'b', 'c', 'd', 'e', 'f', 'g','h','i','j','k','l','m','n','o','p','q','r','s','t','u','v','w','x','y','z']:\n",
    "    if i.islower():\n",
    "        cummulative_percentage += fourth_character[i]/lowercase_fourth_char\n",
    "        print(i, cummulative_percentage)\n"
   ]
  },
  {
   "cell_type": "code",
   "execution_count": 148,
   "metadata": {},
   "outputs": [
    {
     "name": "stdout",
     "output_type": "stream",
     "text": [
      "lowercase % in alphabets 0.9991778247592201\n",
      "uppercase % in alphabets 0.000822175240779892\n",
      "a 0.08980839308804514\n",
      "b 0.11167274009639121\n",
      "c 0.13776889620312682\n",
      "d 0.16339485129893028\n",
      "e 0.3223227929940049\n",
      "f 0.3343129187727753\n",
      "g 0.35288585870459616\n",
      "h 0.38697543199717876\n",
      "i 0.4777242271070883\n",
      "j 0.4820735864582109\n",
      "k 0.5085223933231456\n",
      "l 0.5624779593276126\n",
      "m 0.5886916656870812\n",
      "n 0.6528741036793229\n",
      "o 0.731867873515928\n",
      "p 0.7491477606676853\n",
      "q 0.7514987657223462\n",
      "r 0.807922887034207\n",
      "s 0.8562360409074878\n",
      "t 0.9145409662630773\n",
      "u 0.9365228635241565\n",
      "v 0.9402844716116139\n",
      "w 0.9502762430939226\n",
      "x 0.9538027506759139\n",
      "y 0.9957681909016104\n",
      "z 1.0\n"
     ]
    }
   ],
   "source": [
    "#FIFTH INDEX\n",
    "\n",
    "lowercase_fifth_char = 0\n",
    "uppercase_fifth_char = 0\n",
    "for i in fifth_character.keys():\n",
    "    if i.islower():\n",
    "        lowercase_fifth_char += fifth_character[i]\n",
    "\n",
    "\n",
    "for i in fifth_character.keys():\n",
    "    if i.isupper():\n",
    "        uppercase_fifth_char += fifth_character[i]\n",
    "\n",
    "\n",
    "total = lowercase_fifth_char + uppercase_fifth_char\n",
    "print(\"lowercase % in alphabets {}\".format(lowercase_fifth_char/total))\n",
    "print(\"uppercase % in alphabets {}\".format(uppercase_fifth_char/total))\n",
    "\n",
    "cummulative_percentage = 0\n",
    "for i in ['a', 'b', 'c', 'd', 'e', 'f', 'g','h','i','j','k','l','m','n','o','p','q','r','s','t','u','v','w','x','y','z']:\n",
    "    if i.islower():\n",
    "        cummulative_percentage += fifth_character[i]/lowercase_fifth_char\n",
    "        print(i, cummulative_percentage)\n"
   ]
  },
  {
   "cell_type": "code",
   "execution_count": 149,
   "metadata": {},
   "outputs": [
    {
     "name": "stdout",
     "output_type": "stream",
     "text": [
      "lowercase % in alphabets 0.9988642816581488\n",
      "uppercase % in alphabets 0.001135718341851221\n",
      "a 0.08939738487777146\n",
      "b 0.10048322910744742\n",
      "c 0.12109152927799888\n",
      "d 0.1517907902217169\n",
      "e 0.2969016486640137\n",
      "f 0.3037237066515066\n",
      "g 0.32291074474133036\n",
      "h 0.3436611711199546\n",
      "i 0.4070494599204094\n",
      "j 0.4100341102899376\n",
      "k 0.4172825469016488\n",
      "l 0.4580727686185334\n",
      "m 0.4791074474133032\n",
      "n 0.5812961910176239\n",
      "o 0.654917566799318\n",
      "p 0.6655770324047756\n",
      "q 0.6678510517339399\n",
      "r 0.775866969869244\n",
      "s 0.848919840818647\n",
      "t 0.9030699260943719\n",
      "u 0.9242467310972144\n",
      "v 0.9300739056281979\n",
      "w 0.9420125071063105\n",
      "x 0.948408186469585\n",
      "y 0.9955940875497442\n",
      "z 1.0\n"
     ]
    }
   ],
   "source": [
    "#SIXTH INDEX\n",
    "\n",
    "lowercase_sixth_char = 0\n",
    "uppercase_sixth_char = 0\n",
    "for i in sixth_character.keys():\n",
    "    if i.islower():\n",
    "        lowercase_sixth_char += sixth_character[i]\n",
    "\n",
    "\n",
    "for i in sixth_character.keys():\n",
    "    if i.isupper():\n",
    "        uppercase_sixth_char += sixth_character[i]\n",
    "\n",
    "\n",
    "total = lowercase_sixth_char + uppercase_sixth_char\n",
    "print(\"lowercase % in alphabets {}\".format(lowercase_sixth_char/total))\n",
    "print(\"uppercase % in alphabets {}\".format(uppercase_sixth_char/total))\n",
    "\n",
    "cummulative_percentage = 0\n",
    "for i in ['a', 'b', 'c', 'd', 'e', 'f', 'g','h','i','j','k','l','m','n','o','p','q','r','s','t','u','v','w','x','y','z']:\n",
    "    if i.islower():\n",
    "        cummulative_percentage += sixth_character[i]/lowercase_sixth_char\n",
    "        print(i, cummulative_percentage)\n"
   ]
  },
  {
   "cell_type": "markdown",
   "metadata": {},
   "source": [
    "## ALPHANUMERIC PASSWORD DISTRIBUTION"
   ]
  },
  {
   "cell_type": "code",
   "execution_count": 170,
   "metadata": {},
   "outputs": [
    {
     "name": "stdout",
     "output_type": "stream",
     "text": [
      "total alphanum character in alphanum passwords 10044\n",
      "a 0.049019607843137254\n",
      "b 0.1336317135549872\n",
      "c 0.21696504688832052\n",
      "d 0.27046035805626595\n",
      "e 0.29443734015345263\n",
      "f 0.3338661551577152\n",
      "g 0.3767050298380221\n",
      "h 0.42028985507246375\n",
      "i 0.4351023017902813\n",
      "j 0.4671781756180733\n",
      "k 0.4915814151747655\n",
      "l 0.5312233589087808\n",
      "m 0.6019820971867007\n",
      "n 0.6285166240409207\n",
      "o 0.64268968456948\n",
      "p 0.7051364023870418\n",
      "q 0.7125959079283888\n",
      "r 0.7587382779198636\n",
      "s 0.8719096334185849\n",
      "t 0.9251918158567776\n",
      "u 0.9309462915601023\n",
      "v 0.9459718670076727\n",
      "w 0.9785805626598466\n",
      "x 0.9824168797953965\n",
      "y 0.9905157715260018\n",
      "z 1.0\n",
      "0 0.05303030303030303\n",
      "1 0.4818181818181818\n",
      "2 0.5878787878787879\n",
      "3 0.6621212121212121\n",
      "4 0.7439393939393939\n",
      "5 0.8227272727272726\n",
      "6 0.868181818181818\n",
      "7 0.9287878787878787\n",
      "8 0.9636363636363636\n",
      "9 1.0\n"
     ]
    }
   ],
   "source": [
    "alpha_char = 0\n",
    "num_char = 0\n",
    "\n",
    "for i in first_character.keys():\n",
    "    if (i.islower()):\n",
    "        alpha_char += first_character[i]\n",
    "    elif(i.isdigit()):\n",
    "        num_char += first_character[i]\n",
    "        \n",
    "print(\"total alphanum character in alphanum passwords {}\".format(alpha_char + num_char))\n",
    "\n",
    "cummulative_percentage = 0\n",
    "for i in ['a', 'b', 'c', 'd', 'e', 'f', 'g','h','i','j','k','l','m','n','o','p','q','r','s','t','u','v','w','x','y','z']:\n",
    "    cummulative_percentage += first_character[i]/alpha_char\n",
    "    print(i, cummulative_percentage)\n",
    "cummulative_percentage = 0\n",
    "for i in ['0', '1', '2', '3', '4', '5', '6', '7', '8', '9']:\n",
    "    cummulative_percentage += first_character[i]/num_char\n",
    "    print(i, cummulative_percentage)"
   ]
  },
  {
   "cell_type": "code",
   "execution_count": 174,
   "metadata": {
    "scrolled": true
   },
   "outputs": [
    {
     "name": "stdout",
     "output_type": "stream",
     "text": [
      "total alphanum character in alphanum passwords 10083\n",
      "a 0.19117180057161004\n",
      "b 0.19784058431248017\n",
      "c 0.2104371758230126\n",
      "d 0.21710595956388273\n",
      "e 0.34000211707420347\n",
      "f 0.3428601672488621\n",
      "g 0.34582407113369323\n",
      "h 0.4009738541335874\n",
      "i 0.5148724462792421\n",
      "j 0.5165661056420028\n",
      "k 0.522070498570975\n",
      "l 0.5720334497724145\n",
      "m 0.5861119932253626\n",
      "n 0.6109876151159098\n",
      "o 0.7720969619985181\n",
      "p 0.7878691648142268\n",
      "q 0.7912564835397481\n",
      "r 0.8590028580501747\n",
      "s 0.8709643272996719\n",
      "t 0.8948872657986663\n",
      "u 0.9673970572668572\n",
      "v 0.9717370593839314\n",
      "w 0.9816873081401503\n",
      "x 0.9868741399386048\n",
      "y 0.9975653646660315\n",
      "z 1.0\n",
      "0 0.13364779874213836\n",
      "1 0.2562893081761006\n",
      "2 0.4323899371069182\n",
      "3 0.4952830188679245\n",
      "4 0.570754716981132\n",
      "5 0.6509433962264151\n",
      "6 0.7169811320754716\n",
      "7 0.770440251572327\n",
      "8 0.8427672955974842\n",
      "9 0.9999999999999999\n"
     ]
    }
   ],
   "source": [
    "alpha_char = 0\n",
    "num_char = 0\n",
    "\n",
    "for i in second_character.keys():\n",
    "    if (i.islower()):\n",
    "        alpha_char += second_character[i]\n",
    "    elif(i.isdigit()):\n",
    "        num_char += second_character[i]\n",
    "        \n",
    "print(\"total alphanum character in alphanum passwords {}\".format(alpha_char + num_char))\n",
    "\n",
    "cummulative_percentage = 0\n",
    "for i in ['a', 'b', 'c', 'd', 'e', 'f', 'g','h','i','j','k','l','m','n','o','p','q','r','s','t','u','v','w','x','y',\n",
    "          'z']:\n",
    "    cummulative_percentage += second_character[i]/alpha_char\n",
    "    print(i, cummulative_percentage)\n",
    "cummulative_percentage = 0\n",
    "for i in ['0', '1', '2', '3', '4', '5', '6', '7', '8', '9']:\n",
    "    cummulative_percentage += second_character[i]/num_char\n",
    "    print(i, cummulative_percentage)"
   ]
  },
  {
   "cell_type": "code",
   "execution_count": 175,
   "metadata": {},
   "outputs": [
    {
     "name": "stdout",
     "output_type": "stream",
     "text": [
      "total alphanum character in alphanum passwords 10090\n",
      "a 0.09250821235562148\n",
      "b 0.11613860336971495\n",
      "c 0.15916075023842322\n",
      "d 0.19455335382006994\n",
      "e 0.2621595846137544\n",
      "f 0.2737098654233337\n",
      "g 0.3091024690049804\n",
      "h 0.31895729575076825\n",
      "i 0.3795697785313129\n",
      "j 0.38370244781180457\n",
      "k 0.39461693334746206\n",
      "l 0.4673095263325209\n",
      "m 0.5125569566599555\n",
      "n 0.6071844865953163\n",
      "o 0.6715057751404048\n",
      "p 0.69577196142842\n",
      "q 0.6983151425241072\n",
      "r 0.7941082971283246\n",
      "s 0.849316520080534\n",
      "t 0.9024054254530041\n",
      "u 0.9365264384868072\n",
      "v 0.9547525696725654\n",
      "w 0.9670446116350535\n",
      "x 0.9756278478329977\n",
      "y 0.9910988661650948\n",
      "z 1.0\n",
      "0 0.11026033690658499\n",
      "1 0.2358346094946401\n",
      "2 0.40735068912710565\n",
      "3 0.5252679938744257\n",
      "4 0.6033690658499233\n",
      "5 0.6967840735068912\n",
      "6 0.7963246554364471\n",
      "7 0.8836140888208269\n",
      "8 0.9402756508422664\n",
      "9 0.9999999999999999\n"
     ]
    }
   ],
   "source": [
    "alpha_char = 0\n",
    "num_char = 0\n",
    "\n",
    "for i in third_character.keys():\n",
    "    if (i.islower()):\n",
    "        alpha_char += third_character[i]\n",
    "    elif(i.isdigit()):\n",
    "        num_char += third_character[i]\n",
    "        \n",
    "print(\"total alphanum character in alphanum passwords {}\".format(alpha_char + num_char))\n",
    "\n",
    "cummulative_percentage = 0\n",
    "for i in ['a', 'b', 'c', 'd', 'e', 'f', 'g','h','i','j','k','l','m','n','o','p','q','r','s','t','u','v','w','x','y',\n",
    "          'z']:\n",
    "    cummulative_percentage += third_character[i]/alpha_char\n",
    "    print(i, cummulative_percentage)\n",
    "cummulative_percentage = 0\n",
    "for i in ['0', '1', '2', '3', '4', '5', '6', '7', '8', '9']:\n",
    "    cummulative_percentage += third_character[i]/num_char\n",
    "    print(i, cummulative_percentage)"
   ]
  },
  {
   "cell_type": "code",
   "execution_count": 176,
   "metadata": {},
   "outputs": [
    {
     "name": "stdout",
     "output_type": "stream",
     "text": [
      "total alphanum character in alphanum passwords 10089\n",
      "a 0.06648258283772303\n",
      "b 0.0933517417162277\n",
      "c 0.1328589634664401\n",
      "d 0.18192438402718777\n",
      "e 0.2820730671197961\n",
      "f 0.3014018691588785\n",
      "g 0.34101529311809686\n",
      "h 0.370964316057774\n",
      "i 0.4423322005097706\n",
      "j 0.447642310960068\n",
      "k 0.4861937128292269\n",
      "l 0.5442863211554801\n",
      "m 0.5834749362786747\n",
      "n 0.6564358538657605\n",
      "o 0.7014655904842821\n",
      "p 0.7325828377230247\n",
      "q 0.7348130841121496\n",
      "r 0.7913126593033136\n",
      "s 0.8447323704333052\n",
      "t 0.9233220050977062\n",
      "u 0.9407391673746816\n",
      "v 0.9575191163976212\n",
      "w 0.9707943925233646\n",
      "x 0.9747238742565847\n",
      "y 0.9898045879354292\n",
      "z 1.0000000000000002\n",
      "0 0.0950965824665676\n",
      "1 0.26002971768202077\n",
      "2 0.3640416047548291\n",
      "3 0.4606240713224368\n",
      "4 0.5676077265973254\n",
      "5 0.6478454680534919\n",
      "6 0.7295690936106984\n",
      "7 0.8187221396731056\n",
      "8 0.9004457652303122\n",
      "9 1.0000000000000002\n"
     ]
    }
   ],
   "source": [
    "alpha_char = 0\n",
    "num_char = 0\n",
    "\n",
    "for i in fourth_character.keys():\n",
    "    if (i.islower()):\n",
    "        alpha_char += fourth_character[i]\n",
    "    elif(i.isdigit()):\n",
    "        num_char += fourth_character[i]\n",
    "        \n",
    "print(\"total alphanum character in alphanum passwords {}\".format(alpha_char + num_char))\n",
    "\n",
    "cummulative_percentage = 0\n",
    "for i in ['a', 'b', 'c', 'd', 'e', 'f', 'g','h','i','j','k','l','m','n','o','p','q','r','s','t','u','v','w','x','y',\n",
    "          'z']:\n",
    "    cummulative_percentage += fourth_character[i]/alpha_char\n",
    "    print(i, cummulative_percentage)\n",
    "cummulative_percentage = 0\n",
    "for i in ['0', '1', '2', '3', '4', '5', '6', '7', '8', '9']:\n",
    "    cummulative_percentage += fourth_character[i]/num_char\n",
    "    print(i, cummulative_percentage)"
   ]
  },
  {
   "cell_type": "code",
   "execution_count": 177,
   "metadata": {
    "scrolled": true
   },
   "outputs": [
    {
     "name": "stdout",
     "output_type": "stream",
     "text": [
      "total alphanum character in alphanum passwords 8967\n",
      "a 0.08980839308804514\n",
      "b 0.11167274009639121\n",
      "c 0.13776889620312682\n",
      "d 0.16339485129893028\n",
      "e 0.3223227929940049\n",
      "f 0.3343129187727753\n",
      "g 0.35288585870459616\n",
      "h 0.38697543199717876\n",
      "i 0.4777242271070883\n",
      "j 0.4820735864582109\n",
      "k 0.5085223933231456\n",
      "l 0.5624779593276126\n",
      "m 0.5886916656870812\n",
      "n 0.6528741036793229\n",
      "o 0.731867873515928\n",
      "p 0.7491477606676853\n",
      "q 0.7514987657223462\n",
      "r 0.807922887034207\n",
      "s 0.8562360409074878\n",
      "t 0.9145409662630773\n",
      "u 0.9365228635241565\n",
      "v 0.9402844716116139\n",
      "w 0.9502762430939226\n",
      "x 0.9538027506759139\n",
      "y 0.9957681909016104\n",
      "z 1.0\n",
      "0 0.0782608695652174\n",
      "1 0.2608695652173913\n",
      "2 0.4608695652173913\n",
      "3 0.5565217391304348\n",
      "4 0.6434782608695653\n",
      "5 0.7652173913043478\n",
      "6 0.8478260869565217\n",
      "7 0.9\n",
      "8 0.9456521739130435\n",
      "9 1.0\n"
     ]
    }
   ],
   "source": [
    "alpha_char = 0\n",
    "num_char = 0\n",
    "\n",
    "for i in fifth_character.keys():\n",
    "    if (i.islower()):\n",
    "        alpha_char += fifth_character[i]\n",
    "    elif(i.isdigit()):\n",
    "        num_char += fifth_character[i]\n",
    "        \n",
    "print(\"total alphanum character in alphanum passwords {}\".format(alpha_char + num_char))\n",
    "\n",
    "cummulative_percentage = 0\n",
    "for i in ['a', 'b', 'c', 'd', 'e', 'f', 'g','h','i','j','k','l','m','n','o','p','q','r','s','t','u','v','w','x','y',\n",
    "          'z']:\n",
    "    cummulative_percentage += fifth_character[i]/alpha_char\n",
    "    print(i, cummulative_percentage)\n",
    "cummulative_percentage = 0\n",
    "for i in ['0', '1', '2', '3', '4', '5', '6', '7', '8', '9']:\n",
    "    cummulative_percentage += fifth_character[i]/num_char\n",
    "    print(i, cummulative_percentage)"
   ]
  },
  {
   "cell_type": "code",
   "execution_count": 178,
   "metadata": {},
   "outputs": [
    {
     "name": "stdout",
     "output_type": "stream",
     "text": [
      "total alphanum character in alphanum passwords 7829\n",
      "a 0.08939738487777146\n",
      "b 0.10048322910744742\n",
      "c 0.12109152927799888\n",
      "d 0.1517907902217169\n",
      "e 0.2969016486640137\n",
      "f 0.3037237066515066\n",
      "g 0.32291074474133036\n",
      "h 0.3436611711199546\n",
      "i 0.4070494599204094\n",
      "j 0.4100341102899376\n",
      "k 0.4172825469016488\n",
      "l 0.4580727686185334\n",
      "m 0.4791074474133032\n",
      "n 0.5812961910176239\n",
      "o 0.654917566799318\n",
      "p 0.6655770324047756\n",
      "q 0.6678510517339399\n",
      "r 0.775866969869244\n",
      "s 0.848919840818647\n",
      "t 0.9030699260943719\n",
      "u 0.9242467310972144\n",
      "v 0.9300739056281979\n",
      "w 0.9420125071063105\n",
      "x 0.948408186469585\n",
      "y 0.9955940875497442\n",
      "z 1.0\n",
      "0 0.05926860025220681\n",
      "1 0.5094577553593946\n",
      "2 0.5989911727616645\n",
      "3 0.6948297604035308\n",
      "4 0.7578814627994955\n",
      "5 0.8045397225725094\n",
      "6 0.8638083228247162\n",
      "7 0.9129886506935687\n",
      "8 0.9495586380832283\n",
      "9 1.0\n"
     ]
    }
   ],
   "source": [
    "alpha_char = 0\n",
    "num_char = 0\n",
    "\n",
    "for i in sixth_character.keys():\n",
    "    if (i.islower()):\n",
    "        alpha_char += sixth_character[i]\n",
    "    elif(i.isdigit()):\n",
    "        num_char += sixth_character[i]\n",
    "        \n",
    "print(\"total alphanum character in alphanum passwords {}\".format(alpha_char + num_char))\n",
    "\n",
    "cummulative_percentage = 0\n",
    "for i in ['a', 'b', 'c', 'd', 'e', 'f', 'g','h','i','j','k','l','m','n','o','p','q','r','s','t','u','v','w','x','y',\n",
    "          'z']:\n",
    "    cummulative_percentage += sixth_character[i]/alpha_char\n",
    "    print(i, cummulative_percentage)\n",
    "cummulative_percentage = 0\n",
    "for i in ['0', '1', '2', '3', '4', '5', '6', '7', '8', '9']:\n",
    "    cummulative_percentage += sixth_character[i]/num_char\n",
    "    print(i, cummulative_percentage)"
   ]
  },
  {
   "cell_type": "code",
   "execution_count": 171,
   "metadata": {},
   "outputs": [],
   "source": [
    "isUpper = 0\n",
    "f = open(\"output.txt\", 'r')\n",
    "lines = f.readlines()\n",
    "\n",
    "testdict = defaultdict(int)\n",
    "for line in lines:\n",
    "    for char in line[:-1]:\n",
    "        testdict[char] +=1\n",
    "        if(char.isupper()):\n",
    "            isUpper +=1"
   ]
  },
  {
   "cell_type": "code",
   "execution_count": 172,
   "metadata": {},
   "outputs": [
    {
     "name": "stdout",
     "output_type": "stream",
     "text": [
      "a 0.047936085219707054\n",
      "b 0.11917443408788281\n",
      "c 0.19640479360852195\n",
      "d 0.24067909454061248\n",
      "e 0.25865512649800265\n",
      "f 0.29460719041278294\n",
      "g 0.3382157123834887\n",
      "h 0.374167776298269\n",
      "i 0.3808255659121172\n",
      "j 0.41611185086551267\n",
      "k 0.43408788282290284\n",
      "l 0.46704394141145145\n",
      "m 0.5256324900133156\n",
      "n 0.5476031957390146\n",
      "o 0.5549267643142476\n",
      "p 0.6155126498002662\n",
      "q 0.6215046604527296\n",
      "r 0.6674434087882821\n",
      "s 0.7646471371504658\n",
      "t 0.8212383488681756\n",
      "u 0.8262316910785618\n",
      "v 0.8428761651131823\n",
      "w 0.8685086551264979\n",
      "x 0.8708388814913448\n",
      "y 0.8788282290279626\n",
      "z 0.888814913448735\n"
     ]
    },
    {
     "data": {
      "text/plain": [
       "0.010985352862849533"
      ]
     },
     "execution_count": 172,
     "metadata": {},
     "output_type": "execute_result"
    }
   ],
   "source": [
    "cummulative_percentage = 0\n",
    "for i in ['a', 'b', 'c', 'd', 'e', 'f', 'g','h','i','j','k','l','m','n','o','p','q','r','s','t','u','v','w','x','y','z']:\n",
    "    cummulative_percentage += testdict[i]/sum(testdict.values())\n",
    "    print(i, cummulative_percentage)\n",
    "\n",
    "isUpper / sum(testdict.values())"
   ]
  },
  {
   "cell_type": "code",
   "execution_count": null,
   "metadata": {},
   "outputs": [],
   "source": []
  }
 ],
 "metadata": {
  "kernelspec": {
   "display_name": "Python 3",
   "language": "python",
   "name": "python3"
  },
  "language_info": {
   "codemirror_mode": {
    "name": "ipython",
    "version": 3
   },
   "file_extension": ".py",
   "mimetype": "text/x-python",
   "name": "python",
   "nbconvert_exporter": "python",
   "pygments_lexer": "ipython3",
   "version": "3.6.4"
  }
 },
 "nbformat": 4,
 "nbformat_minor": 2
}
