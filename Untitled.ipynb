{
 "cells": [
  {
   "cell_type": "code",
   "execution_count": 78,
   "metadata": {},
   "outputs": [],
   "source": [
    "from collections import defaultdict\n",
    "f = open(\"common_passwords.txt\", \"r\")"
   ]
  },
  {
   "cell_type": "code",
   "execution_count": 79,
   "metadata": {},
   "outputs": [],
   "source": [
    "lines = f.readlines()"
   ]
  },
  {
   "cell_type": "code",
   "execution_count": 87,
   "metadata": {},
   "outputs": [
    {
     "name": "stdout",
     "output_type": "stream",
     "text": [
      "Number of words 10001\n"
     ]
    }
   ],
   "source": [
    "dictionary = defaultdict(int)\n",
    "word = 0\n",
    "alphanumeric = 0\n",
    "numbers = 0\n",
    "symbolsincluded = 0\n",
    "for line in lines:\n",
    "    if(line[:-1].isdigit()):\n",
    "        numbers+=1\n",
    "    elif(line[:-1].isalnum()):\n",
    "        alphanumeric+=1\n",
    "    else:\n",
    "        symbolsincluded+=1\n",
    "    compute(line)\n",
    "    word += 1\n",
    "print(\"Number of words {}\".format(word))\n",
    "f.close()"
   ]
  },
  {
   "cell_type": "code",
   "execution_count": 88,
   "metadata": {},
   "outputs": [],
   "source": [
    "def compute(word):\n",
    "    #print(word)\n",
    "    #print(len(word))\n",
    "    for i in range(len(word)-1):\n",
    "        dictionary[word[i]]+=1"
   ]
  },
  {
   "cell_type": "code",
   "execution_count": 94,
   "metadata": {},
   "outputs": [
    {
     "data": {
      "text/plain": [
       "62896"
      ]
     },
     "execution_count": 94,
     "metadata": {},
     "output_type": "execute_result"
    }
   ],
   "source": [
    "sum(dictionary.values())"
   ]
  },
  {
   "cell_type": "code",
   "execution_count": 90,
   "metadata": {},
   "outputs": [
    {
     "data": {
      "text/plain": [
       "0.9382061793820617"
      ]
     },
     "execution_count": 90,
     "metadata": {},
     "output_type": "execute_result"
    }
   ],
   "source": [
    "alphanumeric / word"
   ]
  },
  {
   "cell_type": "code",
   "execution_count": 91,
   "metadata": {},
   "outputs": [
    {
     "data": {
      "text/plain": [
       "0.055694430556944306"
      ]
     },
     "execution_count": 91,
     "metadata": {},
     "output_type": "execute_result"
    }
   ],
   "source": [
    "numbers/word"
   ]
  },
  {
   "cell_type": "code",
   "execution_count": 92,
   "metadata": {},
   "outputs": [
    {
     "data": {
      "text/plain": [
       "0.006099390060993901"
      ]
     },
     "execution_count": 92,
     "metadata": {},
     "output_type": "execute_result"
    }
   ],
   "source": [
    "symbolsincluded/word"
   ]
  },
  {
   "cell_type": "code",
   "execution_count": 95,
   "metadata": {},
   "outputs": [
    {
     "data": {
      "text/plain": [
       "defaultdict(int,\n",
       "            {' ': 37,\n",
       "             '!': 2,\n",
       "             '%': 1,\n",
       "             '&': 2,\n",
       "             \"'\": 1,\n",
       "             '*': 19,\n",
       "             '+': 2,\n",
       "             '-': 2,\n",
       "             '.': 5,\n",
       "             '0': 370,\n",
       "             '1': 1371,\n",
       "             '2': 613,\n",
       "             '3': 408,\n",
       "             '4': 349,\n",
       "             '5': 340,\n",
       "             '6': 313,\n",
       "             '7': 283,\n",
       "             '8': 229,\n",
       "             '9': 324,\n",
       "             ';': 1,\n",
       "             '?': 12,\n",
       "             'A': 9,\n",
       "             'B': 1,\n",
       "             'C': 5,\n",
       "             'D': 3,\n",
       "             'E': 8,\n",
       "             'F': 1,\n",
       "             'H': 2,\n",
       "             'I': 6,\n",
       "             'J': 2,\n",
       "             'L': 4,\n",
       "             'M': 3,\n",
       "             'N': 1,\n",
       "             'O': 5,\n",
       "             'P': 8,\n",
       "             'R': 7,\n",
       "             'S': 6,\n",
       "             'T': 4,\n",
       "             'U': 3,\n",
       "             'W': 3,\n",
       "             'Y': 1,\n",
       "             '\\\\': 1,\n",
       "             ']': 3,\n",
       "             'a': 5531,\n",
       "             'b': 1622,\n",
       "             'c': 2141,\n",
       "             'd': 2045,\n",
       "             'e': 5997,\n",
       "             'f': 890,\n",
       "             'g': 1628,\n",
       "             'h': 1819,\n",
       "             'i': 3842,\n",
       "             'j': 466,\n",
       "             'k': 1113,\n",
       "             'l': 3104,\n",
       "             'm': 2018,\n",
       "             'n': 3904,\n",
       "             'o': 4169,\n",
       "             'p': 1510,\n",
       "             'q': 190,\n",
       "             'r': 4216,\n",
       "             's': 3642,\n",
       "             't': 3151,\n",
       "             'u': 1617,\n",
       "             'v': 598,\n",
       "             'w': 856,\n",
       "             'x': 310,\n",
       "             'y': 1372,\n",
       "             'z': 374,\n",
       "             '|': 1})"
      ]
     },
     "execution_count": 95,
     "metadata": {},
     "output_type": "execute_result"
    }
   ],
   "source": [
    "dictionary"
   ]
  },
  {
   "cell_type": "code",
   "execution_count": null,
   "metadata": {},
   "outputs": [],
   "source": []
  }
 ],
 "metadata": {
  "kernelspec": {
   "display_name": "Python 3",
   "language": "python",
   "name": "python3"
  },
  "language_info": {
   "codemirror_mode": {
    "name": "ipython",
    "version": 3
   },
   "file_extension": ".py",
   "mimetype": "text/x-python",
   "name": "python",
   "nbconvert_exporter": "python",
   "pygments_lexer": "ipython3",
   "version": "3.6.4"
  }
 },
 "nbformat": 4,
 "nbformat_minor": 2
}
